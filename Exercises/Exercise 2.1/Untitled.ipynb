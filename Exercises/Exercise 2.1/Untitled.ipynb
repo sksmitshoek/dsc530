{
 "cells": [
  {
   "cell_type": "code",
   "execution_count": 1,
   "id": "e01eb0a4-91ad-4dee-ba9c-3bc26bd46f10",
   "metadata": {},
   "outputs": [],
   "source": [
    "# DSC530-T302\n",
    "# Stephen Smitshoek\n",
    "# Exercise 2.1"
   ]
  },
  {
   "cell_type": "code",
   "execution_count": 2,
   "id": "b60deae5-149b-4a83-a883-cb9e7458abda",
   "metadata": {},
   "outputs": [],
   "source": [
    "def main():\n",
    "    # Display the text “Hello World! I wonder why that is always the default coding text to start with”\n",
    "    print(\"Hello World! I wonder why that is always the default coding text to start with.\")\n",
    "    \n",
    "    # Add two numbers together\n",
    "    add = 6 + 3\n",
    "    print(add)\n",
    "    \n",
    "    # Subtract a number from another number\n",
    "    sub = 6 - 3\n",
    "    print(sub)\n",
    "    \n",
    "    # Multiply two numbers\n",
    "    mul = 6 * 3\n",
    "    print(mul)\n",
    "    \n",
    "    # Divide between two numbers\n",
    "    div = 6 / 3\n",
    "    print(div)\n",
    "    \n",
    "    # Concatenate two strings together (any words)\n",
    "    con = \"Hello\" + \" \" + \"World\"\n",
    "    print(con)\n",
    "    \n",
    "    # Create a list of 4 items (can be strings, numbers, both)\n",
    "    fruit = ['banana', 'pear', 'apple', 'orange']\n",
    "    print(fruit)\n",
    "    \n",
    "    # Append an item to your list (again, can be a string, number)\n",
    "    fruit.append('lime')\n",
    "    print(fruit)\n",
    "    \n",
    "    # Create a tuple with 4 items (can be strings, numbers, both)\n",
    "    vegetable = ('carrot', 'lettuce', 'peas', 'corn')\n",
    "    print(vegetable)"
   ]
  },
  {
   "cell_type": "code",
   "execution_count": 3,
   "id": "99fb4cb5-3dd3-4dad-abb2-fa53d69dcf41",
   "metadata": {},
   "outputs": [
    {
     "name": "stdout",
     "output_type": "stream",
     "text": [
      "Hello World! I wonder why that is always the default coding text to start with.\n",
      "9\n",
      "3\n",
      "18\n",
      "2.0\n",
      "Hello World\n",
      "['banana', 'pear', 'apple', 'orange']\n",
      "['banana', 'pear', 'apple', 'orange', 'lime']\n",
      "('carrot', 'lettuce', 'peas', 'corn')\n"
     ]
    }
   ],
   "source": [
    "if __name__ == '__main__':\n",
    "    main()"
   ]
  }
 ],
 "metadata": {
  "kernelspec": {
   "display_name": "Python 3 (ipykernel)",
   "language": "python",
   "name": "python3"
  },
  "language_info": {
   "codemirror_mode": {
    "name": "ipython",
    "version": 3
   },
   "file_extension": ".py",
   "mimetype": "text/x-python",
   "name": "python",
   "nbconvert_exporter": "python",
   "pygments_lexer": "ipython3",
   "version": "3.9.12"
  }
 },
 "nbformat": 4,
 "nbformat_minor": 5
}
