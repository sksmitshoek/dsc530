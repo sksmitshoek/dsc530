{
 "cells": [
  {
   "cell_type": "code",
   "execution_count": 1,
   "id": "9bd7ee76-cc4c-4dcd-bd4c-e34c72abc7af",
   "metadata": {},
   "outputs": [],
   "source": [
    "import numpy as np\n",
    "import nsfg\n",
    "import first\n",
    "import thinkstats2\n",
    "import thinkplot"
   ]
  },
  {
   "cell_type": "code",
   "execution_count": 2,
   "id": "cd02b10d-6dba-4861-b623-3c55417ce5cf",
   "metadata": {},
   "outputs": [],
   "source": [
    "def BiasPmf(pmf, label):\n",
    "    bias_pmf = pmf.Copy(label=label)\n",
    "    \n",
    "    for x, p in pmf.Items():\n",
    "        bias_pmf.Mult(x, x)\n",
    "    \n",
    "    bias_pmf.Normalize()\n",
    "    \n",
    "    return bias_pmf"
   ]
  },
  {
   "cell_type": "code",
   "execution_count": 3,
   "id": "60ab76d4-7be2-41fc-b036-6889f96dfc08",
   "metadata": {},
   "outputs": [],
   "source": [
    "resp = nsfg.ReadFemResp()"
   ]
  },
  {
   "cell_type": "code",
   "execution_count": 4,
   "id": "6f08d34c-680a-46c9-acf8-988330967b87",
   "metadata": {},
   "outputs": [],
   "source": [
    "pmf = thinkstats2.Pmf(resp.numkdhh)\n",
    "bias_pmf = BiasPmf(pmf, 'observed')"
   ]
  },
  {
   "cell_type": "code",
   "execution_count": 5,
   "id": "2a269852-43e2-4600-a775-73abf084e948",
   "metadata": {},
   "outputs": [],
   "source": [
    "def PmfMean(pmf):\n",
    "    mean = 0\n",
    "    for x, p in pmf.Items():\n",
    "        mean += p * x\n",
    "    \n",
    "    return mean"
   ]
  },
  {
   "cell_type": "code",
   "execution_count": 6,
   "id": "7d329164-76df-4e5e-bb25-6dd6103fac44",
   "metadata": {},
   "outputs": [],
   "source": [
    "def PmfVar(pmf):\n",
    "    mean = PmfMean(pmf)\n",
    "    var = 0\n",
    "    for x, p in pmf.Items():\n",
    "        var += p * (x - mean) ** 2\n",
    "    \n",
    "    return var"
   ]
  },
  {
   "cell_type": "code",
   "execution_count": 7,
   "id": "e26e44fb-4cf6-44bf-90a4-3995f76e9652",
   "metadata": {},
   "outputs": [
    {
     "name": "stdout",
     "output_type": "stream",
     "text": [
      "1.024205155043831\n",
      "1.024205155043831\n",
      "1.4128643263531195\n",
      "1.4128643263531195\n"
     ]
    }
   ],
   "source": [
    "print(PmfMean(pmf))\n",
    "print(pmf.Mean())\n",
    "\n",
    "print(PmfVar(pmf))\n",
    "print(pmf.Var())"
   ]
  }
 ],
 "metadata": {
  "kernelspec": {
   "display_name": "Python 3 (ipykernel)",
   "language": "python",
   "name": "python3"
  },
  "language_info": {
   "codemirror_mode": {
    "name": "ipython",
    "version": 3
   },
   "file_extension": ".py",
   "mimetype": "text/x-python",
   "name": "python",
   "nbconvert_exporter": "python",
   "pygments_lexer": "ipython3",
   "version": "3.9.12"
  }
 },
 "nbformat": 4,
 "nbformat_minor": 5
}
