{
 "cells": [
  {
   "cell_type": "code",
   "execution_count": 1,
   "id": "9bd7ee76-cc4c-4dcd-bd4c-e34c72abc7af",
   "metadata": {},
   "outputs": [],
   "source": [
    "import numpy as np\n",
    "import nsfg\n",
    "import first\n",
    "import thinkstats2\n",
    "import thinkplot"
   ]
  },
  {
   "cell_type": "code",
   "execution_count": 2,
   "id": "cd02b10d-6dba-4861-b623-3c55417ce5cf",
   "metadata": {},
   "outputs": [],
   "source": [
    "def BiasPmf(pmf, label):\n",
    "    bias_pmf = pmf.Copy(label=label)\n",
    "    \n",
    "    for x, p in pmf.Items():\n",
    "        bias_pmf.Mult(x, x)\n",
    "    \n",
    "    bias_pmf.Normalize()\n",
    "    \n",
    "    return bias_pmf"
   ]
  },
  {
   "cell_type": "code",
   "execution_count": 3,
   "id": "60ab76d4-7be2-41fc-b036-6889f96dfc08",
   "metadata": {},
   "outputs": [],
   "source": [
    "resp = nsfg.ReadFemResp()"
   ]
  },
  {
   "cell_type": "code",
   "execution_count": 4,
   "id": "6f08d34c-680a-46c9-acf8-988330967b87",
   "metadata": {},
   "outputs": [],
   "source": [
    "pmf = thinkstats2.Pmf(resp.numkdhh)\n",
    "bias_pmf = BiasPmf(pmf, 'observed')"
   ]
  },
  {
   "cell_type": "code",
   "execution_count": 5,
   "id": "8bc4204f-1111-4d03-bcb6-b010acbb7d7c",
   "metadata": {},
   "outputs": [
    {
     "data": {
      "image/png": "[encoded data removed]",
      "text/plain": [
       "<Figure size 432x288 with 1 Axes>"
      ]
     },
     "metadata": {
      "needs_background": "light"
     },
     "output_type": "display_data"
    }
   ],
   "source": [
    "thinkplot.PrePlot(2)\n",
    "thinkplot.Pmfs([pmf, bias_pmf])"
   ]
  },
  {
   "cell_type": "code",
   "execution_count": 6,
   "id": "bba87cf0-fc83-42c4-baf9-f9d5927acaff",
   "metadata": {},
   "outputs": [
    {
     "name": "stdout",
     "output_type": "stream",
     "text": [
      "Ubiased: 1.02\n",
      "Biased: 2.4\n"
     ]
    }
   ],
   "source": [
    "print('Ubiased: {}'.format(round(pmf.Mean(), 2)))\n",
    "print('Biased: {}'.format(round(bias_pmf.Mean(), 2)))"
   ]
  },
  {
   "cell_type": "code",
   "execution_count": null,
   "id": "2a269852-43e2-4600-a775-73abf084e948",
   "metadata": {},
   "outputs": [],
   "source": []
  }
 ],
 "metadata": {
  "kernelspec": {
   "display_name": "Python 3 (ipykernel)",
   "language": "python",
   "name": "python3"
  },
  "language_info": {
   "codemirror_mode": {
    "name": "ipython",
    "version": 3
   },
   "file_extension": ".py",
   "mimetype": "text/x-python",
   "name": "python",
   "nbconvert_exporter": "python",
   "pygments_lexer": "ipython3",
   "version": "3.9.12"
  }
 },
 "nbformat": 4,
 "nbformat_minor": 5
}
