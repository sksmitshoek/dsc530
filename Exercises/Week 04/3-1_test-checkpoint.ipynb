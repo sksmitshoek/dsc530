{
 "cells": [
  {
   "cell_type": "code",
   "execution_count": 1,
   "id": "9bd7ee76-cc4c-4dcd-bd4c-e34c72abc7af",
   "metadata": {},
   "outputs": [],
   "source": [
    "import numpy as np\n",
    "import nsfg\n",
    "import first\n",
    "import thinkstats2\n",
    "import thinkplot\n",
    "from matplotlib.pyplot import plot"
   ]
  },
  {
   "cell_type": "code",
   "execution_count": 24,
   "id": "4669d1ed-cbaf-4c93-b8be-35c8fcc68861",
   "metadata": {},
   "outputs": [],
   "source": [
    "def pmf(data):\n",
    "    freq_dict = dict()\n",
    "    for item in data:\n",
    "        if item in freq_dict:\n",
    "            freq_dict[item] += 1\n",
    "        else:\n",
    "            freq_dict[item] = 1\n",
    "    \n",
    "    prob_dict = dict()\n",
    "    for item in freq_dict:\n",
    "        prob_dict[item] = freq_dict[item] / sum(freq_dict.values())\n",
    "    \n",
    "    prob_list = sorted(list(prob_dict.items()), key=lambda x: x[0])\n",
    "    \n",
    "    return prob_list"
   ]
  },
  {
   "cell_type": "code",
   "execution_count": 33,
   "id": "db576c56-d5fd-4bca-9c1e-c007d8d860f7",
   "metadata": {},
   "outputs": [],
   "source": [
    "def bias_pmf(data):\n",
    "    freq_dict = dict()\n",
    "    for item in data:\n",
    "        if item in freq_dict:\n",
    "            freq_dict[item] += item\n",
    "        else:\n",
    "            freq_dict[item] = item\n",
    "    \n",
    "    prob_dict = dict()\n",
    "    for item in freq_dict:\n",
    "        prob_dict[item] = freq_dict[item] / sum(freq_dict.values())\n",
    "        \n",
    "    prob_list = sorted(list(prob_dict.items()), key=lambda x: x[0])\n",
    "    \n",
    "    return prob_list"
   ]
  },
  {
   "cell_type": "code",
   "execution_count": 4,
   "id": "57463c10-dfc0-418b-b6b6-9b031c4bf6e7",
   "metadata": {},
   "outputs": [],
   "source": [
    "resp = nsfg.ReadFemResp()"
   ]
  },
  {
   "cell_type": "code",
   "execution_count": 25,
   "id": "3c1e2983-8ebf-48b1-af29-8cb6bb3b43aa",
   "metadata": {},
   "outputs": [],
   "source": [
    "pmf_list = pmf(resp.numkdhh)\n",
    "bias_pmf_list = bias_pmf(resp.numkdhh)"
   ]
  },
  {
   "cell_type": "code",
   "execution_count": 38,
   "id": "cbafd873-d5a2-409a-909e-86996f066c90",
   "metadata": {},
   "outputs": [
    {
     "data": {
      "text/plain": [
       "[<matplotlib.lines.Line2D at 0x1d434139280>]"
      ]
     },
     "execution_count": 38,
     "metadata": {},
     "output_type": "execute_result"
    },
    {
     "data": {
      "image/png": "[encoded data removed]",
      "text/plain": [
       "<Figure size 432x288 with 1 Axes>"
      ]
     },
     "metadata": {
      "needs_background": "light"
     },
     "output_type": "display_data"
    }
   ],
   "source": [
    "x = list()\n",
    "y = list()\n",
    "for num, prob in pmf_list:\n",
    "    x.append(num)\n",
    "    y.append(prob)\n",
    "plot(x, y)\n",
    "\n",
    "x = list()\n",
    "y = list()\n",
    "for num, prob in bias_pmf_list:\n",
    "    x.append(num)\n",
    "    y.append(prob)\n",
    "plot(x, y)"
   ]
  },
  {
   "cell_type": "code",
   "execution_count": null,
   "id": "60ab76d4-7be2-41fc-b036-6889f96dfc08",
   "metadata": {},
   "outputs": [],
   "source": []
  }
 ],
 "metadata": {
  "kernelspec": {
   "display_name": "Python 3 (ipykernel)",
   "language": "python",
   "name": "python3"
  },
  "language_info": {
   "codemirror_mode": {
    "name": "ipython",
    "version": 3
   },
   "file_extension": ".py",
   "mimetype": "text/x-python",
   "name": "python",
   "nbconvert_exporter": "python",
   "pygments_lexer": "ipython3",
   "version": "3.9.12"
  }
 },
 "nbformat": 4,
 "nbformat_minor": 5
}
