{
 "cells": [
  {
   "cell_type": "code",
   "execution_count": 1,
   "id": "0f3fffb6-c599-48d5-a9dc-29ecb1ccf129",
   "metadata": {},
   "outputs": [],
   "source": [
    "# DSC530-T302\n",
    "# Stephen Smitshoek\n",
    "# Week04\n",
    "# Exercise 3-2"
   ]
  },
  {
   "cell_type": "code",
   "execution_count": 2,
   "id": "9bd7ee76-cc4c-4dcd-bd4c-e34c72abc7af",
   "metadata": {},
   "outputs": [],
   "source": [
    "import numpy as np\n",
    "import nsfg\n",
    "import thinkstats2\n",
    "import thinkplot"
   ]
  },
  {
   "cell_type": "code",
   "execution_count": 3,
   "id": "2a269852-43e2-4600-a775-73abf084e948",
   "metadata": {},
   "outputs": [],
   "source": [
    "def PmfMean(pmf):\n",
    "    '''\n",
    "    Calculate the mean of a pmf using the formula \n",
    "        mean = sum( pi*xi )\n",
    "    '''\n",
    "    mean = 0\n",
    "    for x, p in pmf.Items():\n",
    "        mean += p * x\n",
    "    \n",
    "    return mean"
   ]
  },
  {
   "cell_type": "code",
   "execution_count": 4,
   "id": "7d329164-76df-4e5e-bb25-6dd6103fac44",
   "metadata": {},
   "outputs": [],
   "source": [
    "def PmfVar(pmf):\n",
    "    '''\n",
    "    Calculate the mean of a pmf using the formula \n",
    "        var = sum( pi*(xi - mean)^2 )\n",
    "    '''\n",
    "    mean = PmfMean(pmf)\n",
    "    var = 0\n",
    "    for x, p in pmf.Items():\n",
    "        var += p * (x - mean) ** 2\n",
    "    \n",
    "    return var"
   ]
  },
  {
   "cell_type": "code",
   "execution_count": 5,
   "id": "eec26cf4-519f-4242-bcba-0242706ce4ac",
   "metadata": {},
   "outputs": [],
   "source": [
    "def main():\n",
    "    resp = nsfg.ReadFemResp()\n",
    "    pmf = thinkstats2.Pmf(resp.numkdhh)\n",
    "    \n",
    "    print('PmfMean Function: {}'.format(round(PmfMean(pmf), 2)))  # Using user PmfMean function\n",
    "    print('ThinkStats PMF mean Module: {}'.format(round(pmf.Mean(), 2)))    # Using thinkstats pmf mean module\n",
    "\n",
    "    print('PmfVar Function: {}'.format(round(PmfVar(pmf), 2)))   # Using user PmfVar function\n",
    "    print('ThinkStats PMF var Module: {}'.format(round(pmf.Var(), 2)))    # Using thinkstats pmf var module"
   ]
  },
  {
   "cell_type": "code",
   "execution_count": 6,
   "id": "15f7316a-9d2a-4be3-be27-dccd6e82e5d0",
   "metadata": {},
   "outputs": [
    {
     "name": "stdout",
     "output_type": "stream",
     "text": [
      "PmfMean Function: 1.02\n",
      "ThinkStats PMF mean Module: 1.02\n",
      "PmfVar Function: 1.41\n",
      "ThinkStats PMF var Module: 1.41\n"
     ]
    }
   ],
   "source": [
    "if __name__ == '__main__':\n",
    "    main()"
   ]
  }
 ],
 "metadata": {
  "kernelspec": {
   "display_name": "Python 3 (ipykernel)",
   "language": "python",
   "name": "python3"
  },
  "language_info": {
   "codemirror_mode": {
    "name": "ipython",
    "version": 3
   },
   "file_extension": ".py",
   "mimetype": "text/x-python",
   "name": "python",
   "nbconvert_exporter": "python",
   "pygments_lexer": "ipython3",
   "version": "3.9.12"
  }
 },
 "nbformat": 4,
 "nbformat_minor": 5
}
