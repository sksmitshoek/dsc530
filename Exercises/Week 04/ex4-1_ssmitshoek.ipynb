{
 "cells": [
  {
   "cell_type": "code",
   "execution_count": 1,
   "id": "6a1c4685-61ff-4bb5-bf72-34941e5b2ead",
   "metadata": {},
   "outputs": [],
   "source": [
    "# DSC530-T302\n",
    "# Stephen Smitshoek\n",
    "# Week04\n",
    "# Exercise 4-1"
   ]
  },
  {
   "cell_type": "code",
   "execution_count": 2,
   "id": "39940c37-ce05-44c3-91d4-5705861035ee",
   "metadata": {},
   "outputs": [],
   "source": [
    "import sys\n",
    "import numpy as np\n",
    "import thinkstats2\n",
    "import math"
   ]
  },
  {
   "cell_type": "code",
   "execution_count": 3,
   "id": "b83ffcb6-4bc2-4e64-944a-d4b3c7033b25",
   "metadata": {},
   "outputs": [],
   "source": [
    "def ReadFemPreg(dct_file='2002FemPreg.dct',\n",
    "                dat_file='2002FemPreg.dat.gz'):\n",
    "    \"\"\"Reads the NSFG pregnancy data.\n",
    "\n",
    "    dct_file: string file name\n",
    "    dat_file: string file name\n",
    "\n",
    "    returns: DataFrame\n",
    "    \"\"\"\n",
    "    dct = thinkstats2.ReadStataDct(dct_file)\n",
    "    df = dct.ReadFixedWidth(dat_file, compression='gzip')\n",
    "    CleanFemPreg(df)\n",
    "    return df"
   ]
  },
  {
   "cell_type": "code",
   "execution_count": 4,
   "id": "fd1e1185-dbc9-42b1-8ec3-a7b4ac505a58",
   "metadata": {},
   "outputs": [],
   "source": [
    "def CleanFemPreg(df):\n",
    "    \"\"\"Recodes variables from the pregnancy frame.\n",
    "\n",
    "    df: DataFrame\n",
    "    \"\"\"\n",
    "    # mother's age is encoded in centiyears; convert to years\n",
    "    df.agepreg /= 100.0\n",
    "\n",
    "    # birthwgt_lb contains at least one bogus value (51 lbs)\n",
    "    # replace with NaN\n",
    "    df.loc[df.birthwgt_lb > 20, 'birthwgt_lb'] = np.nan\n",
    "    \n",
    "    # replace 'not ascertained', 'refused', 'don't know' with NaN\n",
    "    na_vals = [97, 98, 99]\n",
    "    df.birthwgt_lb.replace(na_vals, np.nan, inplace=True)\n",
    "    df.birthwgt_oz.replace(na_vals, np.nan, inplace=True)\n",
    "    df.hpagelb.replace(na_vals, np.nan, inplace=True)\n",
    "\n",
    "    df.babysex.replace([7, 9], np.nan, inplace=True)\n",
    "    df.nbrnaliv.replace([9], np.nan, inplace=True)\n",
    "\n",
    "    # birthweight is stored in two columns, lbs and oz.\n",
    "    # convert to a single column in lb\n",
    "    # NOTE: creating a new column requires dictionary syntax,\n",
    "    # not attribute assignment (like df.totalwgt_lb)\n",
    "    df['totalwgt_lb'] = df.birthwgt_lb + df.birthwgt_oz / 16.0    \n",
    "\n",
    "    # due to a bug in ReadStataDct, the last variable gets clipped;\n",
    "    # so for now set it to NaN\n",
    "    df.cmintvw = np.nan"
   ]
  },
  {
   "cell_type": "code",
   "execution_count": 5,
   "id": "65156723-13fd-4092-a771-1551d80b8d26",
   "metadata": {},
   "outputs": [],
   "source": [
    "def data_split(preg_df):\n",
    "    # Find all the live births and split them into first babies and other babies\n",
    "    live = preg_df[preg_df.outcome==1]\n",
    "    first = live[live.birthord == 1]\n",
    "    other = live[live.birthord != 1]\n",
    "    \n",
    "    return first, other"
   ]
  },
  {
   "cell_type": "code",
   "execution_count": 6,
   "id": "61888c7b-5d2e-4b5b-834c-b495774d8f37",
   "metadata": {},
   "outputs": [],
   "source": [
    "def calc_perc_rank(your_weight_lbs, nsfg_data):\n",
    "    i = 0\n",
    "    for birth_weight in nsfg_data.totalwgt_lb:\n",
    "        if your_weight_lbs >= birth_weight:\n",
    "            i += 1 # increase counter for every weight that is less than or equal to your weight\n",
    "    \n",
    "    # Calculate the percentage of weights that are less than or equal to your weight\n",
    "    perc_rank = i / len(nsfg_data.totalwgt_lb) * 100\n",
    "    \n",
    "    return perc_rank"
   ]
  },
  {
   "cell_type": "code",
   "execution_count": 7,
   "id": "ed02f2e3-69a4-432f-95f7-d9e337d3efa9",
   "metadata": {},
   "outputs": [],
   "source": [
    "def main():\n",
    "    preg_df = ReadFemPreg() # Retrive the pregnacy dataframe\n",
    "    CleanFemPreg(preg_df) # Clean up the data in the dataframe\n",
    "    first, other = data_split(preg_df) # Split the data into first live births and other live births\n",
    "    \n",
    "    my_weight = 8.1 # My birth weight to be compared to the dataframe\n",
    "    \n",
    "    perc_rank = calc_perc_rank(my_weight, other) # Calculate my percentage rank in the dataframe\n",
    "    print('My percential rank: {}'.format(round(perc_rank, 1)))"
   ]
  },
  {
   "cell_type": "code",
   "execution_count": 8,
   "id": "185bdd8f-76d5-43e9-b19d-49d00698c715",
   "metadata": {},
   "outputs": [
    {
     "name": "stdout",
     "output_type": "stream",
     "text": [
      "My percential rank: 71.4\n"
     ]
    }
   ],
   "source": [
    "if __name__ == '__main__':\n",
    "    main()"
   ]
  }
 ],
 "metadata": {
  "kernelspec": {
   "display_name": "Python 3 (ipykernel)",
   "language": "python",
   "name": "python3"
  },
  "language_info": {
   "codemirror_mode": {
    "name": "ipython",
    "version": 3
   },
   "file_extension": ".py",
   "mimetype": "text/x-python",
   "name": "python",
   "nbconvert_exporter": "python",
   "pygments_lexer": "ipython3",
   "version": "3.9.12"
  }
 },
 "nbformat": 4,
 "nbformat_minor": 5
}
