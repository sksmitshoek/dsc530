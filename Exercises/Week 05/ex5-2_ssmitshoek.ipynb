{
 "cells": [
  {
   "cell_type": "code",
   "execution_count": 1,
   "id": "af344f97-c03f-4f2c-8310-107b5233bf12",
   "metadata": {},
   "outputs": [],
   "source": [
    "# DSC530-T302\n",
    "# Stephen Smitshoek\n",
    "# Week05\n",
    "# Exercise 5-1"
   ]
  },
  {
   "cell_type": "code",
   "execution_count": 2,
   "id": "7f498197-973e-425b-b673-f95ccf6fd503",
   "metadata": {},
   "outputs": [],
   "source": [
    "import scipy.stats"
   ]
  },
  {
   "cell_type": "code",
   "execution_count": 3,
   "id": "59a2118d-affe-44e1-ad92-99abdaf4eb1a",
   "metadata": {},
   "outputs": [],
   "source": [
    "def main():\n",
    "    alpha = 1.7 # Median\n",
    "    xmin = 1    # Minimum\n",
    "    dist = scipy.stats.pareto(b=alpha, scale=xmin)\n",
    "    \n",
    "    mean = round(dist.mean(), 2)\n",
    "    print('The mean height it Pareto world is {}m'.format(mean))\n",
    "    \n",
    "    frac_shorter_mean = round(dist.cdf(mean), 2)\n",
    "    print('The fraction of people shorter the {}m in Pareto world is {}'.format(mean, frac_shorter_mean))\n",
    "    \n",
    "    taller_than_1000 = int(round((1 - dist.cdf(1000)) * 7e9, 0))\n",
    "    print('The number of people in Pareto world taller than 1km is {}'.format(taller_than_1000))\n",
    "\n",
    "    tallest = round(dist.ppf(1 - 1 / 7e9), 1)  # ppf is the inverse of cdf\n",
    "    print('The tallest person in Pareto world is {}m tall'.format(tallest))"
   ]
  },
  {
   "cell_type": "code",
   "execution_count": 4,
   "id": "539c3f36-b8de-414e-98fb-c9ad93ff327a",
   "metadata": {},
   "outputs": [
    {
     "name": "stdout",
     "output_type": "stream",
     "text": [
      "The mean height it Pareto world is 2.43m\n",
      "The fraction of people shorter the 2.43m in Pareto world is 0.78\n",
      "The number of people in Pareto world taller than 1km is 55603\n",
      "The tallest person in Pareto world is 618349.6m tall\n"
     ]
    }
   ],
   "source": [
    "if __name__ == '__main__':\n",
    "    main()"
   ]
  }
 ],
 "metadata": {
  "kernelspec": {
   "display_name": "Python 3 (ipykernel)",
   "language": "python",
   "name": "python3"
  },
  "language_info": {
   "codemirror_mode": {
    "name": "ipython",
    "version": 3
   },
   "file_extension": ".py",
   "mimetype": "text/x-python",
   "name": "python",
   "nbconvert_exporter": "python",
   "pygments_lexer": "ipython3",
   "version": "3.9.12"
  }
 },
 "nbformat": 4,
 "nbformat_minor": 5
}
