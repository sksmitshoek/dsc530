{
 "cells": [
  {
   "cell_type": "code",
   "execution_count": 1,
   "id": "8f18ce30-8e71-44a0-b9fa-3e17f6afeca5",
   "metadata": {},
   "outputs": [],
   "source": [
    "# DSC530-T302\n",
    "# Stephen Smitshoek\n",
    "# Week05\n",
    "# Exercise 5-1"
   ]
  },
  {
   "cell_type": "code",
   "execution_count": 2,
   "id": "0b48fcfb-1fda-4d91-be76-a17bd404b06b",
   "metadata": {},
   "outputs": [],
   "source": [
    "import scipy.stats"
   ]
  },
  {
   "cell_type": "code",
   "execution_count": 3,
   "id": "3d01156e-150f-45ad-8276-839d258cd6b5",
   "metadata": {},
   "outputs": [],
   "source": [
    "def main():\n",
    "    mu = 178\n",
    "    sigma = 7.7\n",
    "    smallest = 177.8  # 5'10\"\n",
    "    tallest = 185.42  # 6'1\"\n",
    "    \n",
    "    small_perc_rank = scipy.stats.norm.cdf(smallest, loc=mu, scale=sigma)\n",
    "    tall_perc_rank = scipy.stats.norm.cdf(tallest, loc=mu, scale=sigma)\n",
    "    \n",
    "    print('The percentage of males in the US that are within the height range to be' \\\n",
    "          ' in the Blue Man Group is {}%'.format(round((tall_perc_rank - small_perc_rank)*100, 2)))"
   ]
  },
  {
   "cell_type": "code",
   "execution_count": 4,
   "id": "32295c41-d88d-4358-8b49-dc9cf575bd0c",
   "metadata": {},
   "outputs": [
    {
     "name": "stdout",
     "output_type": "stream",
     "text": [
      "The percentage of males in the US that are within the height range to be in the Blue Man Group is 34.27%\n"
     ]
    }
   ],
   "source": [
    "if __name__ == '__main__':\n",
    "    main()"
   ]
  }
 ],
 "metadata": {
  "kernelspec": {
   "display_name": "Python 3 (ipykernel)",
   "language": "python",
   "name": "python3"
  },
  "language_info": {
   "codemirror_mode": {
    "name": "ipython",
    "version": 3
   },
   "file_extension": ".py",
   "mimetype": "text/x-python",
   "name": "python",
   "nbconvert_exporter": "python",
   "pygments_lexer": "ipython3",
   "version": "3.9.12"
  }
 },
 "nbformat": 4,
 "nbformat_minor": 5
}
