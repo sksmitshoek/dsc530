{
 "cells": [
  {
   "cell_type": "code",
   "execution_count": 1,
   "id": "500b38b9-0339-4e39-ad67-3142877ec64c",
   "metadata": {},
   "outputs": [],
   "source": [
    "# DSC530-T302\n",
    "# Stephen Smitshoek\n",
    "# Week05\n",
    "# Exercise 6-1"
   ]
  },
  {
   "cell_type": "code",
   "execution_count": 2,
   "id": "ffaf089d-1f37-4697-94c4-b1b104b58f4c",
   "metadata": {},
   "outputs": [],
   "source": [
    "import numpy as np\n",
    "import warnings\n",
    "import hinc\n",
    "import math\n",
    "import scipy.stats\n",
    "import thinkplot\n",
    "import thinkstats2\n",
    "\n",
    "warnings.filterwarnings('ignore')"
   ]
  },
  {
   "cell_type": "code",
   "execution_count": 3,
   "id": "75230ecb-7a3f-4a54-bd97-be1c009d72c6",
   "metadata": {},
   "outputs": [],
   "source": [
    "def InterpolateSample(df, log_upper=6.0):\n",
    "    \"\"\"Makes a sample of log10 household income.\n",
    "\n",
    "    Assumes that log10 income is uniform in each range.\n",
    "\n",
    "    df: DataFrame with columns income and freq\n",
    "    log_upper: log10 of the assumed upper bound for the highest range\n",
    "\n",
    "    returns: NumPy array of log10 household income\n",
    "    \"\"\"\n",
    "    # compute the log10 of the upper bound for each range\n",
    "    df['log_upper'] = np.log10(df.income)\n",
    "\n",
    "    # get the lower bounds by shifting the upper bound and filling in\n",
    "    # the first element\n",
    "    df['log_lower'] = df.log_upper.shift(1)\n",
    "    df.log_lower[0] = 3.0\n",
    "\n",
    "    # plug in a value for the unknown upper bound of the highest range\n",
    "    df.log_upper[41] = log_upper\n",
    "\n",
    "    # use the freq column to generate the right number of values in\n",
    "    # each range\n",
    "    arrays = []\n",
    "    for _, row in df.iterrows():\n",
    "        vals = np.linspace(row.log_lower, row.log_upper, int(row.freq))\n",
    "        arrays.append(vals)\n",
    "\n",
    "    # collect the arrays into a single sample\n",
    "    log_sample = np.concatenate(arrays)\n",
    "    return log_sample"
   ]
  },
  {
   "cell_type": "code",
   "execution_count": 4,
   "id": "9ce3df38-2499-49aa-a3eb-8baeaa8a1cfe",
   "metadata": {},
   "outputs": [],
   "source": [
    "def raw_moment(xs, k):\n",
    "    return sum(x**k for x in xs) / len(xs)"
   ]
  },
  {
   "cell_type": "code",
   "execution_count": 5,
   "id": "6d6502b0-6e84-4ebc-a75f-ac0778d7fc8d",
   "metadata": {},
   "outputs": [],
   "source": [
    "def central_moment(xs , k):\n",
    "    mean = raw_moment(xs, 1)\n",
    "    return sum((x - mean)**k for x in xs) / len(xs)"
   ]
  },
  {
   "cell_type": "code",
   "execution_count": 6,
   "id": "85cbe51f-c15c-4be0-aa90-dd71a8df02c6",
   "metadata": {},
   "outputs": [],
   "source": [
    "def standardized_moment(xs , k):\n",
    "    var = central_moment(xs, 2)\n",
    "    std = math.sqrt(var)\n",
    "    return central_moment(xs, k) / std**k"
   ]
  },
  {
   "cell_type": "code",
   "execution_count": 7,
   "id": "58bec132-f59a-48b8-a027-a2021bbd6da9",
   "metadata": {},
   "outputs": [],
   "source": [
    "def skewness(xs):\n",
    "    return standardized_moment(xs, 3)"
   ]
  },
  {
   "cell_type": "code",
   "execution_count": 8,
   "id": "58b3a753-0ff5-43ce-8b52-1efa30e8ea25",
   "metadata": {},
   "outputs": [],
   "source": [
    "def pearson_median_skewness(xs):\n",
    "    median = np.median(xs)\n",
    "    mean = xs.mean()\n",
    "    var = central_moment(xs, 2)\n",
    "    std = math.sqrt(var)\n",
    "    return 3 * (mean - median) / std"
   ]
  },
  {
   "cell_type": "code",
   "execution_count": 9,
   "id": "23a0db8d-012e-4285-8344-6468907b051c",
   "metadata": {},
   "outputs": [
    {
     "data": {
      "image/png": "[encoded data removed]",
      "text/plain": [
       "<Figure size 432x288 with 1 Axes>"
      ]
     },
     "metadata": {
      "needs_background": "light"
     },
     "output_type": "display_data"
    },
    {
     "data": {
      "text/plain": [
       "<Figure size 576x432 with 0 Axes>"
      ]
     },
     "metadata": {},
     "output_type": "display_data"
    }
   ],
   "source": [
    "df = hinc.ReadData()\n",
    "log_sample = InterpolateSample(df, log_upper=6)\n",
    "\n",
    "log_cdf = thinkstats2.Cdf(log_sample)\n",
    "thinkplot.Cdf(log_cdf)\n",
    "thinkplot.Show(xlabel='household income',\n",
    "               ylabel='CDF')\n",
    "\n",
    "sample = np.power(10, log_sample)"
   ]
  },
  {
   "cell_type": "code",
   "execution_count": 10,
   "id": "d2d27939-8b1c-4560-b10c-924a7bd42d3a",
   "metadata": {},
   "outputs": [
    {
     "data": {
      "image/png": "[encoded data removed]",
      "text/plain": [
       "<Figure size 432x288 with 1 Axes>"
      ]
     },
     "metadata": {
      "needs_background": "light"
     },
     "output_type": "display_data"
    },
    {
     "data": {
      "text/plain": [
       "<Figure size 576x432 with 0 Axes>"
      ]
     },
     "metadata": {},
     "output_type": "display_data"
    }
   ],
   "source": [
    "pdf = thinkstats2.EstimatedPdf(sample)\n",
    "thinkplot.Pdf(pdf)\n",
    "thinkplot.Show(xlabel='household income', ylabel='PDF')"
   ]
  },
  {
   "cell_type": "code",
   "execution_count": 11,
   "id": "3da9f9c4-2820-42cb-a317-0dc055d3c998",
   "metadata": {},
   "outputs": [
    {
     "name": "stdout",
     "output_type": "stream",
     "text": [
      "The mean of the sample is 74278.71\n",
      "The median of the sample is 51226.93\n",
      "The skewness of the sample is 4.95\n",
      "The Pearson Median Skewness of the sample is 0.74\n",
      "The fraction of households that report a taxable income below the mean is 0.66\n",
      "\n",
      "Changing the upper bound only effects the final sample group of 2911 people with income over $250,000.\n",
      "The median will not change when the upper bound is changed because the number of people has not changed.\n",
      "The mean will go up or down respective to whether the upper bound is increased or decreased.  It will not\n",
      "have a dramatic impact as only the final 2910 incomes will be affected.\n",
      "The skewness will grow or shrink depending on whether the upper bound is increased or decreased.\n",
      "The Pearson Median Skewness actually does the opposite of what is expected, it shrinks as the upper bound\n",
      "is increased.  This seems to be because the standard deviation grows faster than the mean when the upper\n",
      "bound is increased.\n"
     ]
    }
   ],
   "source": [
    "mean = round(sample.mean(), 2)\n",
    "print('The mean of the sample is {}'.format(mean))\n",
    "\n",
    "median = round(np.median(sample), 2)\n",
    "print('The median of the sample is {}'.format(median))\n",
    "\n",
    "skew = round(skewness(sample), 2)\n",
    "print('The skewness of the sample is {}'.format(skew))\n",
    "\n",
    "pm_skew = round(pearson_median_skewness(sample), 2)\n",
    "print('The Pearson Median Skewness of the sample is {}'.format(pm_skew))\n",
    "\n",
    "cdf = thinkstats2.Cdf(sample)\n",
    "print('The fraction of households that report a taxable income below the mean is {}'.format(round(cdf[mean], 3)))\n",
    "\n",
    "print()\n",
    "print('Changing the upper bound only effects the final sample group of 2911 people with income over $250,000.\\n'\n",
    "      'The median will not change when the upper bound is changed because the number of people has not changed.\\n'\n",
    "      'The mean will go up or down respective to whether the upper bound is increased or decreased.  It will not\\n'\n",
    "      'have a dramatic impact as only the final 2910 incomes will be affected.\\n'\n",
    "      'The skewness will grow or shrink depending on whether the upper bound is increased or decreased.\\n'\n",
    "      'The Pearson Median Skewness actually does the opposite of what is expected, it shrinks as the upper bound\\n'\n",
    "      'is increased.  This seems to be because the standard deviation grows faster than the mean when the upper\\n'\n",
    "      'bound is increased.')"
   ]
  }
 ],
 "metadata": {
  "kernelspec": {
   "display_name": "Python 3 (ipykernel)",
   "language": "python",
   "name": "python3"
  },
  "language_info": {
   "codemirror_mode": {
    "name": "ipython",
    "version": 3
   },
   "file_extension": ".py",
   "mimetype": "text/x-python",
   "name": "python",
   "nbconvert_exporter": "python",
   "pygments_lexer": "ipython3",
   "version": "3.9.12"
  }
 },
 "nbformat": 4,
 "nbformat_minor": 5
}
