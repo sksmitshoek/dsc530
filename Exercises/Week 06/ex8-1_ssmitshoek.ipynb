{
 "cells": [
  {
   "cell_type": "code",
   "execution_count": 1,
   "id": "7b92baf9-445f-4087-b4ea-41c11f0337bd",
   "metadata": {},
   "outputs": [],
   "source": [
    "# DSC530-T302\n",
    "# Stephen Smitshoek\n",
    "# Week06\n",
    "# Exercise 8-1 and 8-2"
   ]
  },
  {
   "cell_type": "code",
   "execution_count": 2,
   "id": "dc7c2ebf-52cb-4b67-bdae-610c059909e1",
   "metadata": {},
   "outputs": [],
   "source": [
    "from __future__ import print_function, division\n",
    "\n",
    "import thinkstats2\n",
    "import thinkplot\n",
    "\n",
    "import math\n",
    "import random\n",
    "import numpy as np"
   ]
  },
  {
   "cell_type": "code",
   "execution_count": 3,
   "id": "923c4d31-fef1-4d23-8a39-5df02cc0b53c",
   "metadata": {},
   "outputs": [],
   "source": [
    "def MeanError(estimates, actual):\n",
    "    \"\"\"Computes the mean error of a sequence of estimates.\n",
    "\n",
    "    estimate: sequence of numbers\n",
    "    actual: actual value\n",
    "\n",
    "    returns: float mean error\n",
    "    \"\"\"\n",
    "    errors = [estimate-actual for estimate in estimates]\n",
    "    return np.mean(errors)"
   ]
  },
  {
   "cell_type": "code",
   "execution_count": 4,
   "id": "1083ae73-4378-4e67-8ff8-19329054790c",
   "metadata": {},
   "outputs": [],
   "source": [
    "def RMSE(estimates, actual):\n",
    "    \"\"\"Computes the root mean squared error of a sequence of estimates.\n",
    "\n",
    "    estimate: sequence of numbers\n",
    "    actual: actual value\n",
    "\n",
    "    returns: float RMSE\n",
    "    \"\"\"\n",
    "    e2 = [(estimate-actual)**2 for estimate in estimates]\n",
    "    mse = np.mean(e2)\n",
    "    return math.sqrt(mse)"
   ]
  },
  {
   "cell_type": "code",
   "execution_count": 5,
   "id": "962f3124-b122-48b4-82a8-4b97548310e8",
   "metadata": {},
   "outputs": [],
   "source": [
    "def Estimate1(n=7, m=1000):\n",
    "    \"\"\"Evaluates RMSE of sample mean and median as estimators.\n",
    "\n",
    "    n: sample size\n",
    "    m: number of iterations\n",
    "    \"\"\"\n",
    "    mu = 0\n",
    "    sigma = 1\n",
    "\n",
    "    means = []\n",
    "    medians = []\n",
    "    for _ in range(m):\n",
    "        xs = [random.gauss(mu, sigma) for _ in range(n)]\n",
    "        xbar = np.mean(xs)\n",
    "        median = np.median(xs)\n",
    "        means.append(xbar)\n",
    "        medians.append(median)\n",
    "\n",
    "    print('Experiment 1')\n",
    "    print('mean error xbar', MeanError(means, mu))\n",
    "    print('mean error median', MeanError(medians, mu))"
   ]
  },
  {
   "cell_type": "code",
   "execution_count": 6,
   "id": "ce566042-8bb4-481b-a2e6-b7edf66c8101",
   "metadata": {},
   "outputs": [],
   "source": [
    "def Estimate2(n=7, m=1000):\n",
    "    \"\"\"Evaluates S and Sn-1 as estimators of sample variance.\n",
    "\n",
    "    n: sample size\n",
    "    m: number of iterations\n",
    "    \"\"\"\n",
    "    mu = 0\n",
    "    sigma = 1\n",
    "\n",
    "    estimates1 = []\n",
    "    estimates2 = []\n",
    "    for _ in range(m):\n",
    "        xs = [random.gauss(mu, sigma) for _ in range(n)]\n",
    "        biased = np.var(xs)\n",
    "        unbiased = np.var(xs, ddof=1)\n",
    "        estimates1.append(biased)\n",
    "        estimates2.append(unbiased)\n",
    "\n",
    "    print('Experiment 2')\n",
    "    print('rmse biased', RMSE(estimates1, sigma**2))\n",
    "    print('rmse unbiased', RMSE(estimates2, sigma**2))\n"
   ]
  },
  {
   "cell_type": "code",
   "execution_count": 7,
   "id": "5db85627-756c-4c16-af85-93899b8afe88",
   "metadata": {},
   "outputs": [],
   "source": [
    "def Estimate3(n=7, m=1000):\n",
    "    \"\"\"Evaluates L and Lm as estimators of the exponential parameter.\n",
    "\n",
    "    n: sample size\n",
    "    m: number of iterations\n",
    "    \"\"\"\n",
    "    lam = 2\n",
    "\n",
    "    means = []\n",
    "    medians = []\n",
    "    for _ in range(m):\n",
    "        xs = np.random.exponential(1/lam, n)\n",
    "        L = 1 / np.mean(xs)\n",
    "        Lm = math.log(2) / np.median(xs)\n",
    "        means.append(L)\n",
    "        medians.append(Lm)\n",
    "\n",
    "    print('Experiment 3')\n",
    "    print('rmse L', RMSE(means, lam))\n",
    "    print('rmse Lm', RMSE(medians, lam))\n",
    "    print('mean error L', MeanError(means, lam))\n",
    "    print('mean error Lm', MeanError(medians, lam))"
   ]
  },
  {
   "cell_type": "code",
   "execution_count": 8,
   "id": "4fbf08a1-b4ba-4f41-8dff-c3b918e9ad81",
   "metadata": {},
   "outputs": [],
   "source": [
    "def SimulateSample(mu=90, sigma=7.5, n=9, m=1000):\n",
    "    \"\"\"Plots the sampling distribution of the sample mean.\n",
    "\n",
    "    mu: hypothetical population mean\n",
    "    sigma: hypothetical population standard deviation\n",
    "    n: sample size\n",
    "    m: number of iterations\n",
    "    \"\"\"\n",
    "    def VertLine(x, y=1):\n",
    "        thinkplot.Plot([x, x], [0, y], color='0.8', linewidth=3)\n",
    "\n",
    "    means = []\n",
    "    for _ in range(m):\n",
    "        xs = np.random.normal(mu, sigma, n)\n",
    "        xbar = np.mean(xs)\n",
    "        means.append(xbar)\n",
    "\n",
    "    stderr = RMSE(means, mu)\n",
    "    print('standard error', stderr)\n",
    "\n",
    "    cdf = thinkstats2.Cdf(means)\n",
    "    ci = cdf.Percentile(5), cdf.Percentile(95)\n",
    "    print('confidence interval', ci)\n",
    "    VertLine(ci[0])\n",
    "    VertLine(ci[1])\n",
    "\n",
    "    # plot the CDF\n",
    "    thinkplot.Cdf(cdf)\n",
    "    thinkplot.Save(root='estimation1',\n",
    "                   xlabel='sample mean',\n",
    "                   ylabel='CDF',\n",
    "                   title='Sampling distribution')"
   ]
  },
  {
   "cell_type": "code",
   "execution_count": 9,
   "id": "e52ba5ec-031e-4591-ac49-88258f094818",
   "metadata": {},
   "outputs": [],
   "source": [
    "def simulate_experiment(n=10, lam=2, m=1000):\n",
    "    def VertLine(x):\n",
    "        thinkplot.Plot([x, x], [0, 1], color='0.8', linewidth=3)\n",
    "    \n",
    "    L_estimates = []\n",
    "    for _ in range(m):\n",
    "        xs = np.random.exponential(1.0/lam, n)\n",
    "        L = 1 / np.mean(xs)\n",
    "        L_estimates.append(L)\n",
    "        \n",
    "    cdf = thinkstats2.Cdf(L_estimates)\n",
    "    ci = cdf.Percentile(5), cdf.Percentile(95)\n",
    "    stderr = RMSE(L_estimates, lam)\n",
    "    \n",
    "    \n",
    "    print('The 90% Confidence Interval is {} to {}'.format(round(ci[0], 2), round(ci[1], 2)))\n",
    "    print('The standard error is {}'.format(round(stderr, 2)))\n",
    "\n",
    "    VertLine(ci[0])\n",
    "    VertLine(ci[1])\n",
    "    thinkplot.Cdf(cdf)"
   ]
  },
  {
   "cell_type": "code",
   "execution_count": 10,
   "id": "d29c8933-d34e-4ac6-9531-1c47f1d215fa",
   "metadata": {},
   "outputs": [
    {
     "name": "stdout",
     "output_type": "stream",
     "text": [
      "m=10\n",
      "Experiment 1\n",
      "mean error xbar 0.13822209624935694\n",
      "mean error median 0.25140235875528316\n",
      "\n",
      "m=10,000\n",
      "Experiment 1\n",
      "mean error xbar 0.002117238023748525\n",
      "mean error median 0.00301923665666006\n",
      "\n",
      "Both the mean and median trend towards zero as the number of experiements increases, therefore it is\n",
      "likley that neither of them are biased.\n"
     ]
    }
   ],
   "source": [
    "print(\"m=10\")\n",
    "Estimate1(m=10)\n",
    "print(\"\\nm=10,000\")\n",
    "Estimate1(m=100000)\n",
    "print(\"\\nBoth the mean and median trend towards zero as the number of experiements increases, therefore it is\"\\\n",
    "     \"\\nlikley that neither of them are biased.\")"
   ]
  },
  {
   "cell_type": "code",
   "execution_count": 11,
   "id": "822aa4f0-7015-412a-805c-bce4d3a00c66",
   "metadata": {},
   "outputs": [
    {
     "name": "stdout",
     "output_type": "stream",
     "text": [
      "Experiment 2\n",
      "rmse biased 0.5008320018577254\n",
      "rmse unbiased 0.5570055288254314\n",
      "\n",
      "Both S^2 and S(n-1)^2 yield similar results with S^2 being slightly smaller.\n"
     ]
    }
   ],
   "source": [
    "Estimate2()\n",
    "print(\"\\nBoth S^2 and S(n-1)^2 yield similar results with S^2 being slightly smaller.\")"
   ]
  },
  {
   "cell_type": "code",
   "execution_count": 12,
   "id": "09c85d71-8283-46ea-8a0a-741cdee5bb5c",
   "metadata": {},
   "outputs": [
    {
     "name": "stdout",
     "output_type": "stream",
     "text": [
      "The 90% Confidence Interval is 1.3 to 3.62\n",
      "The standard error is 0.78\n"
     ]
    },
    {
     "data": {
      "image/png": "[encoded data removed]",
      "text/plain": [
       "<Figure size 432x288 with 1 Axes>"
      ]
     },
     "metadata": {
      "needs_background": "light"
     },
     "output_type": "display_data"
    }
   ],
   "source": [
    "simulate_experiment(n=10)"
   ]
  },
  {
   "cell_type": "code",
   "execution_count": 13,
   "id": "60c2498e-bc83-43af-8045-829163191449",
   "metadata": {},
   "outputs": [
    {
     "name": "stdout",
     "output_type": "stream",
     "text": [
      "The 90% Confidence Interval is 1.7 to 2.37\n",
      "The standard error is 0.2\n"
     ]
    },
    {
     "data": {
      "image/png": "[encoded data removed]",
      "text/plain": [
       "<Figure size 432x288 with 1 Axes>"
      ]
     },
     "metadata": {
      "needs_background": "light"
     },
     "output_type": "display_data"
    }
   ],
   "source": [
    "simulate_experiment(n=100)"
   ]
  },
  {
   "cell_type": "code",
   "execution_count": 14,
   "id": "a844e7df-52a0-4750-8b9d-a8517b4bf6a8",
   "metadata": {},
   "outputs": [
    {
     "name": "stdout",
     "output_type": "stream",
     "text": [
      "The 90% Confidence Interval is 1.9 to 2.1\n",
      "The standard error is 0.06\n"
     ]
    },
    {
     "data": {
      "image/png": "[encoded data removed]",
      "text/plain": [
       "<Figure size 432x288 with 1 Axes>"
      ]
     },
     "metadata": {
      "needs_background": "light"
     },
     "output_type": "display_data"
    }
   ],
   "source": [
    "simulate_experiment(n=1000)"
   ]
  }
 ],
 "metadata": {
  "kernelspec": {
   "display_name": "Python 3 (ipykernel)",
   "language": "python",
   "name": "python3"
  },
  "language_info": {
   "codemirror_mode": {
    "name": "ipython",
    "version": 3
   },
   "file_extension": ".py",
   "mimetype": "text/x-python",
   "name": "python",
   "nbconvert_exporter": "python",
   "pygments_lexer": "ipython3",
   "version": "3.9.12"
  }
 },
 "nbformat": 4,
 "nbformat_minor": 5
}
