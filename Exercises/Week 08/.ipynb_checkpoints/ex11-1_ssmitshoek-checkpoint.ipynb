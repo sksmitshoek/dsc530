{
 "cells": [
  {
   "cell_type": "code",
   "execution_count": 1,
   "id": "80b05665-b44c-4784-b783-8e0ab44fb590",
   "metadata": {},
   "outputs": [],
   "source": [
    "# DSC530-T302\n",
    "# Stephen Smitshoek\n",
    "# Week08\n",
    "# Exercise 11-1"
   ]
  },
  {
   "cell_type": "code",
   "execution_count": 2,
   "id": "f5c0b5c8-1ddc-490c-a125-555b87b0f58a",
   "metadata": {},
   "outputs": [],
   "source": [
    "import thinkstats2\n",
    "import pandas\n",
    "import numpy as np\n",
    "import statsmodels.formula.api as smf\n",
    "import first\n",
    "import nsfg"
   ]
  },
  {
   "cell_type": "code",
   "execution_count": 3,
   "id": "03235c28-bd25-4f04-8b15-35a520c5a61f",
   "metadata": {},
   "outputs": [],
   "source": [
    "live, firsts, others = first.MakeFrames()\n",
    "live = live[live.prglngth>30]\n",
    "\n",
    "resp = nsfg.ReadFemResp()\n",
    "resp.index = resp.caseid\n",
    "\n",
    "join_live_resp = live.join(resp, on='caseid', rsuffix='_r')"
   ]
  },
  {
   "cell_type": "code",
   "execution_count": 4,
   "id": "dadf6bd6-33d0-4942-b43b-348cd09684cf",
   "metadata": {},
   "outputs": [
    {
     "name": "stdout",
     "output_type": "stream",
     "text": [
      "                            OLS Regression Results                            \n",
      "==============================================================================\n",
      "Dep. Variable:               prglngth   R-squared:                       0.009\n",
      "Model:                            OLS   Adj. R-squared:                  0.009\n",
      "Method:                 Least Squares   F-statistic:                     84.63\n",
      "Date:                Wed, 27 Jul 2022   Prob (F-statistic):           4.41e-20\n",
      "Time:                        07:00:08   Log-Likelihood:                -18256.\n",
      "No. Observations:                8884   AIC:                         3.652e+04\n",
      "Df Residuals:                    8882   BIC:                         3.653e+04\n",
      "Df Model:                           1                                         \n",
      "Covariance Type:            nonrobust                                         \n",
      "========================================================================================\n",
      "                           coef    std err          t      P>|t|      [0.025      0.975]\n",
      "----------------------------------------------------------------------------------------\n",
      "Intercept               38.9009      0.020   1926.120      0.000      38.861      38.941\n",
      "nbrnaliv > 1[T.True]    -1.5129      0.164     -9.200      0.000      -1.835      -1.190\n",
      "==============================================================================\n",
      "Omnibus:                     1556.232   Durbin-Watson:                   1.621\n",
      "Prob(Omnibus):                  0.000   Jarque-Bera (JB):             6037.784\n",
      "Skew:                          -0.835   Prob(JB):                         0.00\n",
      "Kurtosis:                       6.678   Cond. No.                         8.21\n",
      "==============================================================================\n",
      "\n",
      "Notes:\n",
      "[1] Standard Errors assume that the covariance matrix of the errors is correctly specified.\n"
     ]
    }
   ],
   "source": [
    "model = smf.ols('prglngth ~ nbrnaliv>1', data=join_live_resp)\n",
    "results = model.fit()\n",
    "print(results.summary()) # R2 = 0.009 P = 0.000"
   ]
  },
  {
   "cell_type": "code",
   "execution_count": 5,
   "id": "aea1d2cb-6c33-4527-ae2b-bb558f5fa10c",
   "metadata": {},
   "outputs": [
    {
     "name": "stdout",
     "output_type": "stream",
     "text": [
      "                            OLS Regression Results                            \n",
      "==============================================================================\n",
      "Dep. Variable:               prglngth   R-squared:                       0.001\n",
      "Model:                            OLS   Adj. R-squared:                  0.001\n",
      "Method:                 Least Squares   F-statistic:                     5.752\n",
      "Date:                Wed, 27 Jul 2022   Prob (F-statistic):            0.00319\n",
      "Time:                        07:00:08   Log-Likelihood:                -18293.\n",
      "No. Observations:                8884   AIC:                         3.659e+04\n",
      "Df Residuals:                    8881   BIC:                         3.661e+04\n",
      "Df Model:                           2                                         \n",
      "Covariance Type:            nonrobust                                         \n",
      "================================================================================\n",
      "                   coef    std err          t      P>|t|      [0.025      0.975]\n",
      "--------------------------------------------------------------------------------\n",
      "Intercept       38.7798      0.039    986.735      0.000      38.703      38.857\n",
      "C(race)[T.2]     0.1483      0.047      3.185      0.001       0.057       0.240\n",
      "C(race)[T.3]     0.0232      0.078      0.297      0.766      -0.130       0.176\n",
      "==============================================================================\n",
      "Omnibus:                     1599.505   Durbin-Watson:                   1.631\n",
      "Prob(Omnibus):                  0.000   Jarque-Bera (JB):             6170.529\n",
      "Skew:                          -0.860   Prob(JB):                         0.00\n",
      "Kurtosis:                       6.703   Cond. No.                         5.20\n",
      "==============================================================================\n",
      "\n",
      "Notes:\n",
      "[1] Standard Errors assume that the covariance matrix of the errors is correctly specified.\n"
     ]
    }
   ],
   "source": [
    "model = smf.ols('prglngth ~ C(race)', data=join_live_resp)\n",
    "results = model.fit()\n",
    "print(results.summary()) # R2 = 0.001 P = 0.001 (For C=2)"
   ]
  },
  {
   "cell_type": "code",
   "execution_count": 6,
   "id": "14c59acc-639f-42e5-9cd0-ad8065f542a7",
   "metadata": {},
   "outputs": [
    {
     "name": "stdout",
     "output_type": "stream",
     "text": [
      "                            OLS Regression Results                            \n",
      "==============================================================================\n",
      "Dep. Variable:               prglngth   R-squared:                       0.000\n",
      "Model:                            OLS   Adj. R-squared:                 -0.000\n",
      "Method:                 Least Squares   F-statistic:                    0.1564\n",
      "Date:                Wed, 27 Jul 2022   Prob (F-statistic):              0.693\n",
      "Time:                        07:00:08   Log-Likelihood:                -18299.\n",
      "No. Observations:                8884   AIC:                         3.660e+04\n",
      "Df Residuals:                    8882   BIC:                         3.662e+04\n",
      "Df Model:                           1                                         \n",
      "Covariance Type:            nonrobust                                         \n",
      "==============================================================================\n",
      "                 coef    std err          t      P>|t|      [0.025      0.975]\n",
      "------------------------------------------------------------------------------\n",
      "Intercept     38.9138      0.093    420.444      0.000      38.732      39.095\n",
      "agepreg       -0.0014      0.004     -0.395      0.693      -0.009       0.006\n",
      "==============================================================================\n",
      "Omnibus:                     1586.727   Durbin-Watson:                   1.630\n",
      "Prob(Omnibus):                  0.000   Jarque-Bera (JB):             6125.870\n",
      "Skew:                          -0.853   Prob(JB):                         0.00\n",
      "Kurtosis:                       6.693   Cond. No.                         118.\n",
      "==============================================================================\n",
      "\n",
      "Notes:\n",
      "[1] Standard Errors assume that the covariance matrix of the errors is correctly specified.\n"
     ]
    }
   ],
   "source": [
    "model = smf.ols('prglngth ~ agepreg', data=join_live_resp)\n",
    "results = model.fit()\n",
    "print(results.summary()) # R2 = 0.000 P = 0.693"
   ]
  },
  {
   "cell_type": "code",
   "execution_count": 7,
   "id": "464a59cc-d65f-4b99-a8eb-b69eaa93e23e",
   "metadata": {},
   "outputs": [
    {
     "name": "stdout",
     "output_type": "stream",
     "text": [
      "                            OLS Regression Results                            \n",
      "==============================================================================\n",
      "Dep. Variable:               prglngth   R-squared:                       0.001\n",
      "Model:                            OLS   Adj. R-squared:                  0.001\n",
      "Method:                 Least Squares   F-statistic:                     11.00\n",
      "Date:                Wed, 27 Jul 2022   Prob (F-statistic):           0.000913\n",
      "Time:                        07:00:08   Log-Likelihood:                -18293.\n",
      "No. Observations:                8884   AIC:                         3.659e+04\n",
      "Df Residuals:                    8882   BIC:                         3.660e+04\n",
      "Df Model:                           1                                         \n",
      "Covariance Type:            nonrobust                                         \n",
      "==============================================================================\n",
      "                 coef    std err          t      P>|t|      [0.025      0.975]\n",
      "------------------------------------------------------------------------------\n",
      "Intercept     38.9953      0.041    958.709      0.000      38.916      39.075\n",
      "birthord      -0.0642      0.019     -3.317      0.001      -0.102      -0.026\n",
      "==============================================================================\n",
      "Omnibus:                     1607.192   Durbin-Watson:                   1.628\n",
      "Prob(Omnibus):                  0.000   Jarque-Bera (JB):             6188.998\n",
      "Skew:                          -0.865   Prob(JB):                         0.00\n",
      "Kurtosis:                       6.705   Cond. No.                         5.01\n",
      "==============================================================================\n",
      "\n",
      "Notes:\n",
      "[1] Standard Errors assume that the covariance matrix of the errors is correctly specified.\n"
     ]
    }
   ],
   "source": [
    "model = smf.ols('prglngth ~ birthord', data=join_live_resp)\n",
    "results = model.fit()\n",
    "print(results.summary()) # R2 = 0.001 P = 0.001"
   ]
  },
  {
   "cell_type": "code",
   "execution_count": 8,
   "id": "8f93f52a-907d-4b8d-9734-5d1f09aeb0b1",
   "metadata": {},
   "outputs": [
    {
     "name": "stdout",
     "output_type": "stream",
     "text": [
      "                            OLS Regression Results                            \n",
      "==============================================================================\n",
      "Dep. Variable:               prglngth   R-squared:                       0.000\n",
      "Model:                            OLS   Adj. R-squared:                  0.000\n",
      "Method:                 Least Squares   F-statistic:                     1.745\n",
      "Date:                Wed, 27 Jul 2022   Prob (F-statistic):              0.187\n",
      "Time:                        07:00:08   Log-Likelihood:                -18298.\n",
      "No. Observations:                8884   AIC:                         3.660e+04\n",
      "Df Residuals:                    8882   BIC:                         3.661e+04\n",
      "Df Model:                           1                                         \n",
      "Covariance Type:            nonrobust                                         \n",
      "========================================================================================\n",
      "                           coef    std err          t      P>|t|      [0.025      0.975]\n",
      "----------------------------------------------------------------------------------------\n",
      "Intercept               38.8511      0.029   1353.307      0.000      38.795      38.907\n",
      "babysex == 1[T.True]     0.0532      0.040      1.321      0.187      -0.026       0.132\n",
      "==============================================================================\n",
      "Omnibus:                     1584.119   Durbin-Watson:                   1.631\n",
      "Prob(Omnibus):                  0.000   Jarque-Bera (JB):             6103.809\n",
      "Skew:                          -0.852   Prob(JB):                         0.00\n",
      "Kurtosis:                       6.686   Cond. No.                         2.64\n",
      "==============================================================================\n",
      "\n",
      "Notes:\n",
      "[1] Standard Errors assume that the covariance matrix of the errors is correctly specified.\n"
     ]
    }
   ],
   "source": [
    "model = smf.ols('prglngth ~ babysex==1', data=join_live_resp)\n",
    "results = model.fit()\n",
    "print(results.summary()) # R2 = 0.000 P = 0.187"
   ]
  },
  {
   "cell_type": "code",
   "execution_count": 9,
   "id": "a87935f7-38a0-4a18-a6a0-c4dab5522e98",
   "metadata": {},
   "outputs": [
    {
     "name": "stdout",
     "output_type": "stream",
     "text": [
      "                            OLS Regression Results                            \n",
      "==============================================================================\n",
      "Dep. Variable:               prglngth   R-squared:                       0.001\n",
      "Model:                            OLS   Adj. R-squared:                  0.001\n",
      "Method:                 Least Squares   F-statistic:                     8.917\n",
      "Date:                Wed, 27 Jul 2022   Prob (F-statistic):            0.00283\n",
      "Time:                        07:00:08   Log-Likelihood:                -18294.\n",
      "No. Observations:                8884   AIC:                         3.659e+04\n",
      "Df Residuals:                    8882   BIC:                         3.661e+04\n",
      "Df Model:                           1                                         \n",
      "Covariance Type:            nonrobust                                         \n",
      "======================================================================================\n",
      "                         coef    std err          t      P>|t|      [0.025      0.975]\n",
      "--------------------------------------------------------------------------------------\n",
      "Intercept             38.8189      0.028   1374.378      0.000      38.764      38.874\n",
      "paydu == 1[T.True]     0.1202      0.040      2.986      0.003       0.041       0.199\n",
      "==============================================================================\n",
      "Omnibus:                     1586.238   Durbin-Watson:                   1.630\n",
      "Prob(Omnibus):                  0.000   Jarque-Bera (JB):             6129.329\n",
      "Skew:                          -0.852   Prob(JB):                         0.00\n",
      "Kurtosis:                       6.695   Cond. No.                         2.60\n",
      "==============================================================================\n",
      "\n",
      "Notes:\n",
      "[1] Standard Errors assume that the covariance matrix of the errors is correctly specified.\n"
     ]
    }
   ],
   "source": [
    "model = smf.ols('prglngth ~ paydu==1', data=join_live_resp)\n",
    "results = model.fit()\n",
    "print(results.summary()) # R2 = 0.001 P = 0.003"
   ]
  },
  {
   "cell_type": "code",
   "execution_count": 10,
   "id": "2dd295b2-89d9-4fe5-a428-516315ec0f5f",
   "metadata": {},
   "outputs": [
    {
     "data": {
      "text/html": [
       "<table class=\"simpletable\">\n",
       "<caption>OLS Regression Results</caption>\n",
       "<tr>\n",
       "  <th>Dep. Variable:</th>        <td>prglngth</td>     <th>  R-squared:         </th> <td>   0.012</td> \n",
       "</tr>\n",
       "<tr>\n",
       "  <th>Model:</th>                   <td>OLS</td>       <th>  Adj. R-squared:    </th> <td>   0.011</td> \n",
       "</tr>\n",
       "<tr>\n",
       "  <th>Method:</th>             <td>Least Squares</td>  <th>  F-statistic:       </th> <td>   26.72</td> \n",
       "</tr>\n",
       "<tr>\n",
       "  <th>Date:</th>             <td>Wed, 27 Jul 2022</td> <th>  Prob (F-statistic):</th> <td>4.54e-22</td> \n",
       "</tr>\n",
       "<tr>\n",
       "  <th>Time:</th>                 <td>07:00:08</td>     <th>  Log-Likelihood:    </th> <td> -18245.</td> \n",
       "</tr>\n",
       "<tr>\n",
       "  <th>No. Observations:</th>      <td>  8884</td>      <th>  AIC:               </th> <td>3.650e+04</td>\n",
       "</tr>\n",
       "<tr>\n",
       "  <th>Df Residuals:</th>          <td>  8879</td>      <th>  BIC:               </th> <td>3.654e+04</td>\n",
       "</tr>\n",
       "<tr>\n",
       "  <th>Df Model:</th>              <td>     4</td>      <th>                     </th>     <td> </td>    \n",
       "</tr>\n",
       "<tr>\n",
       "  <th>Covariance Type:</th>      <td>nonrobust</td>    <th>                     </th>     <td> </td>    \n",
       "</tr>\n",
       "</table>\n",
       "<table class=\"simpletable\">\n",
       "<tr>\n",
       "            <td></td>              <th>coef</th>     <th>std err</th>      <th>t</th>      <th>P>|t|</th>  <th>[0.025</th>    <th>0.975]</th>  \n",
       "</tr>\n",
       "<tr>\n",
       "  <th>Intercept</th>            <td>   38.8749</td> <td>    0.053</td> <td>  733.490</td> <td> 0.000</td> <td>   38.771</td> <td>   38.979</td>\n",
       "</tr>\n",
       "<tr>\n",
       "  <th>nbrnaliv > 1[T.True]</th> <td>   -1.4908</td> <td>    0.164</td> <td>   -9.063</td> <td> 0.000</td> <td>   -1.813</td> <td>   -1.168</td>\n",
       "</tr>\n",
       "<tr>\n",
       "  <th>paydu == 1[T.True]</th>   <td>    0.0821</td> <td>    0.042</td> <td>    1.974</td> <td> 0.048</td> <td>    0.001</td> <td>    0.164</td>\n",
       "</tr>\n",
       "<tr>\n",
       "  <th>race == 2[T.True]</th>    <td>    0.1107</td> <td>    0.044</td> <td>    2.539</td> <td> 0.011</td> <td>    0.025</td> <td>    0.196</td>\n",
       "</tr>\n",
       "<tr>\n",
       "  <th>birthord</th>             <td>   -0.0474</td> <td>    0.019</td> <td>   -2.442</td> <td> 0.015</td> <td>   -0.085</td> <td>   -0.009</td>\n",
       "</tr>\n",
       "</table>\n",
       "<table class=\"simpletable\">\n",
       "<tr>\n",
       "  <th>Omnibus:</th>       <td>1583.093</td> <th>  Durbin-Watson:     </th> <td>   1.619</td>\n",
       "</tr>\n",
       "<tr>\n",
       "  <th>Prob(Omnibus):</th>  <td> 0.000</td>  <th>  Jarque-Bera (JB):  </th> <td>6132.823</td>\n",
       "</tr>\n",
       "<tr>\n",
       "  <th>Skew:</th>           <td>-0.850</td>  <th>  Prob(JB):          </th> <td>    0.00</td>\n",
       "</tr>\n",
       "<tr>\n",
       "  <th>Kurtosis:</th>       <td> 6.699</td>  <th>  Cond. No.          </th> <td>    19.7</td>\n",
       "</tr>\n",
       "</table><br/><br/>Notes:<br/>[1] Standard Errors assume that the covariance matrix of the errors is correctly specified."
      ],
      "text/plain": [
       "<class 'statsmodels.iolib.summary.Summary'>\n",
       "\"\"\"\n",
       "                            OLS Regression Results                            \n",
       "==============================================================================\n",
       "Dep. Variable:               prglngth   R-squared:                       0.012\n",
       "Model:                            OLS   Adj. R-squared:                  0.011\n",
       "Method:                 Least Squares   F-statistic:                     26.72\n",
       "Date:                Wed, 27 Jul 2022   Prob (F-statistic):           4.54e-22\n",
       "Time:                        07:00:08   Log-Likelihood:                -18245.\n",
       "No. Observations:                8884   AIC:                         3.650e+04\n",
       "Df Residuals:                    8879   BIC:                         3.654e+04\n",
       "Df Model:                           4                                         \n",
       "Covariance Type:            nonrobust                                         \n",
       "========================================================================================\n",
       "                           coef    std err          t      P>|t|      [0.025      0.975]\n",
       "----------------------------------------------------------------------------------------\n",
       "Intercept               38.8749      0.053    733.490      0.000      38.771      38.979\n",
       "nbrnaliv > 1[T.True]    -1.4908      0.164     -9.063      0.000      -1.813      -1.168\n",
       "paydu == 1[T.True]       0.0821      0.042      1.974      0.048       0.001       0.164\n",
       "race == 2[T.True]        0.1107      0.044      2.539      0.011       0.025       0.196\n",
       "birthord                -0.0474      0.019     -2.442      0.015      -0.085      -0.009\n",
       "==============================================================================\n",
       "Omnibus:                     1583.093   Durbin-Watson:                   1.619\n",
       "Prob(Omnibus):                  0.000   Jarque-Bera (JB):             6132.823\n",
       "Skew:                          -0.850   Prob(JB):                         0.00\n",
       "Kurtosis:                       6.699   Cond. No.                         19.7\n",
       "==============================================================================\n",
       "\n",
       "Notes:\n",
       "[1] Standard Errors assume that the covariance matrix of the errors is correctly specified.\n",
       "\"\"\""
      ]
     },
     "execution_count": 10,
     "metadata": {},
     "output_type": "execute_result"
    }
   ],
   "source": [
    "model = smf.ols('prglngth ~ nbrnaliv>1 + paydu==1 + birthord + race == 2', data=join_live_resp)\n",
    "results = model.fit()\n",
    "results.summary()"
   ]
  }
 ],
 "metadata": {
  "kernelspec": {
   "display_name": "Python 3 (ipykernel)",
   "language": "python",
   "name": "python3"
  },
  "language_info": {
   "codemirror_mode": {
    "name": "ipython",
    "version": 3
   },
   "file_extension": ".py",
   "mimetype": "text/x-python",
   "name": "python",
   "nbconvert_exporter": "python",
   "pygments_lexer": "ipython3",
   "version": "3.9.12"
  }
 },
 "nbformat": 4,
 "nbformat_minor": 5
}
