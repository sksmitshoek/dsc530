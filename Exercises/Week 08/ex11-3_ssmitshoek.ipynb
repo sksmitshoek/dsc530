{
 "cells": [
  {
   "cell_type": "code",
   "execution_count": 1,
   "id": "e89677db-feb1-4657-b96f-c7ffad76c1b8",
   "metadata": {},
   "outputs": [],
   "source": [
    "# DSC530-T302\n",
    "# Stephen Smitshoek\n",
    "# Week08\n",
    "# Exercise 11-3"
   ]
  },
  {
   "cell_type": "code",
   "execution_count": 2,
   "id": "d12e2a08-f581-4aa4-b659-bd899523d8de",
   "metadata": {},
   "outputs": [],
   "source": [
    "import thinkstats2\n",
    "import pandas\n",
    "import numpy as np\n",
    "import statsmodels.formula.api as smf\n",
    "import first\n",
    "import nsfg"
   ]
  },
  {
   "cell_type": "code",
   "execution_count": 3,
   "id": "0f529b12-95a3-4956-bb59-8a3ac15281cb",
   "metadata": {},
   "outputs": [],
   "source": [
    "live, firsts, others = first.MakeFrames()\n",
    "live = live[live.prglngth>30]\n",
    "\n",
    "resp = nsfg.ReadFemResp()\n",
    "resp.index = resp.caseid\n",
    "\n",
    "join_live_resp = live.join(resp, on='caseid', rsuffix='_r')"
   ]
  },
  {
   "cell_type": "code",
   "execution_count": 4,
   "id": "a77a5bd7-d572-4fab-b42e-8273bca3f1f3",
   "metadata": {},
   "outputs": [
    {
     "name": "stdout",
     "output_type": "stream",
     "text": [
      "Optimization terminated successfully.\n",
      "         Current function value: 1.687055\n",
      "         Iterations 5\n"
     ]
    },
    {
     "data": {
      "text/html": [
       "<table class=\"simpletable\">\n",
       "<caption>Poisson Regression Results</caption>\n",
       "<tr>\n",
       "  <th>Dep. Variable:</th>       <td>numbabes</td>     <th>  No. Observations:  </th>   <td>  8884</td>  \n",
       "</tr>\n",
       "<tr>\n",
       "  <th>Model:</th>                <td>Poisson</td>     <th>  Df Residuals:      </th>   <td>  8878</td>  \n",
       "</tr>\n",
       "<tr>\n",
       "  <th>Method:</th>                 <td>MLE</td>       <th>  Df Model:          </th>   <td>     5</td>  \n",
       "</tr>\n",
       "<tr>\n",
       "  <th>Date:</th>            <td>Wed, 27 Jul 2022</td> <th>  Pseudo R-squ.:     </th>   <td>0.03109</td> \n",
       "</tr>\n",
       "<tr>\n",
       "  <th>Time:</th>                <td>07:15:51</td>     <th>  Log-Likelihood:    </th>  <td> -14988.</td> \n",
       "</tr>\n",
       "<tr>\n",
       "  <th>converged:</th>             <td>True</td>       <th>  LL-Null:           </th>  <td> -15469.</td> \n",
       "</tr>\n",
       "<tr>\n",
       "  <th>Covariance Type:</th>     <td>nonrobust</td>    <th>  LLR p-value:       </th> <td>1.106e-205</td>\n",
       "</tr>\n",
       "</table>\n",
       "<table class=\"simpletable\">\n",
       "<tr>\n",
       "        <td></td>          <th>coef</th>     <th>std err</th>      <th>z</th>      <th>P>|z|</th>  <th>[0.025</th>    <th>0.975]</th>  \n",
       "</tr>\n",
       "<tr>\n",
       "  <th>Intercept</th>    <td>    1.0842</td> <td>    0.045</td> <td>   23.995</td> <td> 0.000</td> <td>    0.996</td> <td>    1.173</td>\n",
       "</tr>\n",
       "<tr>\n",
       "  <th>C(race)[T.2]</th> <td>   -0.1398</td> <td>    0.015</td> <td>   -9.464</td> <td> 0.000</td> <td>   -0.169</td> <td>   -0.111</td>\n",
       "</tr>\n",
       "<tr>\n",
       "  <th>C(race)[T.3]</th> <td>   -0.0914</td> <td>    0.025</td> <td>   -3.717</td> <td> 0.000</td> <td>   -0.140</td> <td>   -0.043</td>\n",
       "</tr>\n",
       "<tr>\n",
       "  <th>age_r</th>        <td>    0.0208</td> <td>    0.001</td> <td>   20.474</td> <td> 0.000</td> <td>    0.019</td> <td>    0.023</td>\n",
       "</tr>\n",
       "<tr>\n",
       "  <th>educat</th>       <td>   -0.0443</td> <td>    0.003</td> <td>  -15.139</td> <td> 0.000</td> <td>   -0.050</td> <td>   -0.039</td>\n",
       "</tr>\n",
       "<tr>\n",
       "  <th>totincr</th>      <td>   -0.0179</td> <td>    0.002</td> <td>   -9.442</td> <td> 0.000</td> <td>   -0.022</td> <td>   -0.014</td>\n",
       "</tr>\n",
       "</table>"
      ],
      "text/plain": [
       "<class 'statsmodels.iolib.summary.Summary'>\n",
       "\"\"\"\n",
       "                          Poisson Regression Results                          \n",
       "==============================================================================\n",
       "Dep. Variable:               numbabes   No. Observations:                 8884\n",
       "Model:                        Poisson   Df Residuals:                     8878\n",
       "Method:                           MLE   Df Model:                            5\n",
       "Date:                Wed, 27 Jul 2022   Pseudo R-squ.:                 0.03109\n",
       "Time:                        07:15:51   Log-Likelihood:                -14988.\n",
       "converged:                       True   LL-Null:                       -15469.\n",
       "Covariance Type:            nonrobust   LLR p-value:                1.106e-205\n",
       "================================================================================\n",
       "                   coef    std err          z      P>|z|      [0.025      0.975]\n",
       "--------------------------------------------------------------------------------\n",
       "Intercept        1.0842      0.045     23.995      0.000       0.996       1.173\n",
       "C(race)[T.2]    -0.1398      0.015     -9.464      0.000      -0.169      -0.111\n",
       "C(race)[T.3]    -0.0914      0.025     -3.717      0.000      -0.140      -0.043\n",
       "age_r            0.0208      0.001     20.474      0.000       0.019       0.023\n",
       "educat          -0.0443      0.003    -15.139      0.000      -0.050      -0.039\n",
       "totincr         -0.0179      0.002     -9.442      0.000      -0.022      -0.014\n",
       "================================================================================\n",
       "\"\"\""
      ]
     },
     "execution_count": 4,
     "metadata": {},
     "output_type": "execute_result"
    }
   ],
   "source": [
    "model = smf.poisson('numbabes ~ age_r + C(race) + educat + totincr', data=join_live_resp)\n",
    "results = model.fit()\n",
    "results.summary()"
   ]
  },
  {
   "cell_type": "code",
   "execution_count": 7,
   "id": "1f0a62ea-b43a-4539-be28-c871d0bc39c1",
   "metadata": {},
   "outputs": [
    {
     "name": "stdout",
     "output_type": "stream",
     "text": [
      "The model predicts the woman has 2 children\n"
     ]
    }
   ],
   "source": [
    "columns = ['age_r', 'race', 'educat', 'totincr']\n",
    "new = pandas.DataFrame([[35, 1, 16, 14]], columns=columns)\n",
    "y = results.predict(new)\n",
    "print(f'The model predicts the woman has {float(y):.0f} children')"
   ]
  }
 ],
 "metadata": {
  "kernelspec": {
   "display_name": "Python 3 (ipykernel)",
   "language": "python",
   "name": "python3"
  },
  "language_info": {
   "codemirror_mode": {
    "name": "ipython",
    "version": 3
   },
   "file_extension": ".py",
   "mimetype": "text/x-python",
   "name": "python",
   "nbconvert_exporter": "python",
   "pygments_lexer": "ipython3",
   "version": "3.9.12"
  }
 },
 "nbformat": 4,
 "nbformat_minor": 5
}
