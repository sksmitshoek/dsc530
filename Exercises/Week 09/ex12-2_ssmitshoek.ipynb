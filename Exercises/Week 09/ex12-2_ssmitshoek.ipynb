{
 "cells": [
  {
   "cell_type": "code",
   "execution_count": 1,
   "id": "17115b4c-d06f-480b-b582-7a9880293af1",
   "metadata": {},
   "outputs": [],
   "source": [
    "# DSC530-T302\n",
    "# Stephen Smitshoek\n",
    "# Week09\n",
    "# Exercise 12-2"
   ]
  },
  {
   "cell_type": "code",
   "execution_count": 2,
   "id": "e5b5f7fa-36f3-419f-8e5b-1a2e5373f4fb",
   "metadata": {},
   "outputs": [],
   "source": [
    "import pandas\n",
    "import numpy as np\n",
    "import statsmodels.formula.api as smf\n",
    "\n",
    "import thinkplot\n",
    "import thinkstats2\n",
    "import regression\n",
    "import timeseries"
   ]
  },
  {
   "cell_type": "code",
   "execution_count": 3,
   "id": "d76b1020-84ed-4def-bd6d-d28e863b658a",
   "metadata": {},
   "outputs": [],
   "source": [
    "def group_by_quality_and_day(transactions):\n",
    "    groups = transactions.groupby('quality')\n",
    "    dailies = {}\n",
    "    for name, group in groups:\n",
    "        dailies[name] = group_by_day(group)\n",
    "    \n",
    "    return dailies"
   ]
  },
  {
   "cell_type": "code",
   "execution_count": 4,
   "id": "785029b9-4a81-4e06-bc23-890b9d4cf7a1",
   "metadata": {},
   "outputs": [],
   "source": [
    "def group_by_day(transactions, func=np.mean):\n",
    "    grouped = transactions[['date', 'ppg']].groupby('date')\n",
    "    daily = grouped.aggregate(func)\n",
    "    \n",
    "    daily['date'] = daily.index\n",
    "    start = daily.date[0]\n",
    "    one_year = np.timedelta64(1, 'Y')\n",
    "    daily['years'] = (daily.date - start) / one_year\n",
    "    \n",
    "    return daily"
   ]
  },
  {
   "cell_type": "code",
   "execution_count": 5,
   "id": "1fd953b3-4e35-45b4-8158-46e7dcf69b6d",
   "metadata": {},
   "outputs": [],
   "source": [
    "def run_quadratic_model(daily):\n",
    "    daily['years2'] = daily.years**2\n",
    "    model = smf.ols('ppg ~ years + years2', data=daily)\n",
    "    results = model.fit()\n",
    "    return model, results"
   ]
  },
  {
   "cell_type": "code",
   "execution_count": 6,
   "id": "dbc9d637-a549-450b-a41b-2113e6d4635f",
   "metadata": {},
   "outputs": [],
   "source": [
    "def run_linear_model(daily):\n",
    "    model = smf.ols('ppg ~ years', data=daily)\n",
    "    results = model.fit()\n",
    "    return model, results"
   ]
  },
  {
   "cell_type": "code",
   "execution_count": 7,
   "id": "669a419e-2393-4693-8720-e56d5c8866ab",
   "metadata": {},
   "outputs": [],
   "source": [
    "class SerialCorrelationTest(thinkstats2.HypothesisTest):\n",
    "    def TestStatistic(self, data):\n",
    "        series, lag = data\n",
    "        corr = thinkstats2.SerialCorr(series, lag)\n",
    "        \n",
    "        return corr\n",
    "        \n",
    "    def RunModel(self):\n",
    "        series, lag = self.data\n",
    "        randomized_series = series[np.random.permutation(series.index)]\n",
    "        \n",
    "        return (randomized_series, lag)"
   ]
  },
  {
   "cell_type": "code",
   "execution_count": 8,
   "id": "18056aba-f1ec-4764-b020-b66eb7f3b12d",
   "metadata": {},
   "outputs": [],
   "source": [
    "transactions = pandas.read_csv('mj-clean.csv', parse_dates=[5])\n",
    "dailies = group_by_quality_and_day(transactions)\n",
    "daily = dailies['high']"
   ]
  },
  {
   "cell_type": "code",
   "execution_count": 9,
   "id": "3c52bf16-b18f-47c9-9420-c5241e24f8b8",
   "metadata": {},
   "outputs": [
    {
     "name": "stdout",
     "output_type": "stream",
     "text": [
      "The serial correlation is 0.485 with a P-Value of 0.0\n"
     ]
    }
   ],
   "source": [
    "serial_corr = SerialCorrelationTest((daily.ppg, 1))\n",
    "corr = serial_corr.actual\n",
    "p_val = serial_corr.PValue()\n",
    "\n",
    "print(f'The serial correlation is {corr:.3f} with a P-Value of {p_val}')"
   ]
  },
  {
   "cell_type": "code",
   "execution_count": 12,
   "id": "45053aac-8289-4b3a-8b8f-2ee088448e84",
   "metadata": {},
   "outputs": [
    {
     "name": "stdout",
     "output_type": "stream",
     "text": [
      "The serial correlation is 0.076 with a P-Value of 0.003\n"
     ]
    }
   ],
   "source": [
    "_, results = run_linear_model(daily)\n",
    "residuals = results.resid\n",
    "serial_corr = SerialCorrelationTest((residuals, 1))\n",
    "corr = serial_corr.actual\n",
    "p_val = serial_corr.PValue()\n",
    "\n",
    "print(f'The serial correlation is {corr:.3f} with a P-Value of {p_val}')"
   ]
  },
  {
   "cell_type": "code",
   "execution_count": 10,
   "id": "8f3939de-867b-46a1-b8e0-9c2efcde6584",
   "metadata": {},
   "outputs": [
    {
     "name": "stdout",
     "output_type": "stream",
     "text": [
      "The serial correlation is 0.056 with a P-Value of 0.022\n"
     ]
    }
   ],
   "source": [
    "_, results = run_quadratic_model(daily)\n",
    "residuals = results.resid\n",
    "serial_corr = SerialCorrelationTest((residuals, 1))\n",
    "corr = serial_corr.actual\n",
    "p_val = serial_corr.PValue()\n",
    "\n",
    "print(f'The serial correlation is {corr:.3f} with a P-Value of {p_val}')"
   ]
  }
 ],
 "metadata": {
  "kernelspec": {
   "display_name": "Python 3 (ipykernel)",
   "language": "python",
   "name": "python3"
  },
  "language_info": {
   "codemirror_mode": {
    "name": "ipython",
    "version": 3
   },
   "file_extension": ".py",
   "mimetype": "text/x-python",
   "name": "python",
   "nbconvert_exporter": "python",
   "pygments_lexer": "ipython3",
   "version": "3.9.12"
  }
 },
 "nbformat": 4,
 "nbformat_minor": 5
}
