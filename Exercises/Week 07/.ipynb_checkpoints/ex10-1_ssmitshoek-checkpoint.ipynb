{
 "cells": [
  {
   "cell_type": "code",
   "execution_count": 1,
   "id": "1090bfa4-3a51-4006-a52b-955db06d331c",
   "metadata": {},
   "outputs": [],
   "source": [
    "# DSC530-T302\n",
    "# Stephen Smitshoek\n",
    "# Week07\n",
    "# Exercise 10-1"
   ]
  },
  {
   "cell_type": "code",
   "execution_count": 2,
   "id": "0610161b-bc64-438a-842e-d5f6ab48ba03",
   "metadata": {},
   "outputs": [],
   "source": [
    "import first\n",
    "import thinkstats2\n",
    "import numpy as np\n",
    "\n",
    "import brfss"
   ]
  },
  {
   "cell_type": "code",
   "execution_count": 9,
   "id": "6480f381-c964-4797-b39b-2257338a9486",
   "metadata": {},
   "outputs": [],
   "source": [
    "df = brfss.ReadBrfss()\n",
    "df = df.dropna(subset=['htm3', 'wtkg2'])\n",
    "heights, weights = df.htm3, df.wtkg2"
   ]
  },
  {
   "cell_type": "code",
   "execution_count": 11,
   "id": "185a988f-059f-4248-9aec-f20fed7a14ef",
   "metadata": {},
   "outputs": [],
   "source": [
    "log_weights = np.log10(weights)"
   ]
  },
  {
   "cell_type": "code",
   "execution_count": 13,
   "id": "69cba305-7194-43ae-be7a-41024222f900",
   "metadata": {},
   "outputs": [
    {
     "name": "stdout",
     "output_type": "stream",
     "text": [
      "The least squares intercept is 0.99, and the slope is 0.01\n"
     ]
    }
   ],
   "source": [
    "inter, slope = thinkstats2.LeastSquares(heights, log_weights)\n",
    "print('The least squares intercept is {:.2f}, and the slope is {:.2f}'.format(inter, slope))"
   ]
  },
  {
   "cell_type": "code",
   "execution_count": null,
   "id": "3f33da99-1478-4c6e-8900-194a9be2956d",
   "metadata": {},
   "outputs": [],
   "source": []
  },
  {
   "cell_type": "code",
   "execution_count": null,
   "id": "003e6d14-f3f2-4ec7-9a70-e916b2eb8e51",
   "metadata": {},
   "outputs": [],
   "source": []
  },
  {
   "cell_type": "code",
   "execution_count": null,
   "id": "43d65f80-6eae-49a2-9544-7c4c20f96ff4",
   "metadata": {},
   "outputs": [],
   "source": []
  },
  {
   "cell_type": "code",
   "execution_count": null,
   "id": "4d53e557-5239-41a2-aa31-fff6f66ff57b",
   "metadata": {},
   "outputs": [],
   "source": []
  }
 ],
 "metadata": {
  "kernelspec": {
   "display_name": "Python 3 (ipykernel)",
   "language": "python",
   "name": "python3"
  },
  "language_info": {
   "codemirror_mode": {
    "name": "ipython",
    "version": 3
   },
   "file_extension": ".py",
   "mimetype": "text/x-python",
   "name": "python",
   "nbconvert_exporter": "python",
   "pygments_lexer": "ipython3",
   "version": "3.9.12"
  }
 },
 "nbformat": 4,
 "nbformat_minor": 5
}
