{
 "cells": [
  {
   "cell_type": "code",
   "execution_count": 1,
   "id": "679f66e5-dace-4bce-bcd8-dc9e254e8a67",
   "metadata": {},
   "outputs": [],
   "source": [
    "# DSC530-T302\n",
    "# Stephen Smitshoek\n",
    "# Week07\n",
    "# Exercise 9-1"
   ]
  },
  {
   "cell_type": "code",
   "execution_count": 2,
   "id": "69650a86-8a54-4821-84e5-32632e23c79b",
   "metadata": {},
   "outputs": [],
   "source": [
    "import first\n",
    "import thinkstats2\n",
    "import numpy as np"
   ]
  },
  {
   "cell_type": "code",
   "execution_count": 3,
   "id": "dca9491a-5d13-4eba-86ed-de338a7fb380",
   "metadata": {},
   "outputs": [],
   "source": [
    "class DiffMeansPermute(thinkstats2.HypothesisTest):\n",
    "    def TestStatistic(self, data):\n",
    "        group1, group2 = data\n",
    "        test_stat = abs(group1.mean() - group2.mean())\n",
    "        return test_stat\n",
    "    \n",
    "    def MakeModel(self):\n",
    "        group1, group2 = self.data\n",
    "        self.n, self.m = len(group1), len(group2)\n",
    "        self.pool = np.hstack((group1, group2))\n",
    "        \n",
    "    def RunModel(self):\n",
    "        np.random.shuffle(self.pool)\n",
    "        data = self.pool[:self.n], self.pool[self.n:]\n",
    "        return data"
   ]
  },
  {
   "cell_type": "code",
   "execution_count": 4,
   "id": "e3616b8c-fe6e-4320-9014-0fc9a0fc022d",
   "metadata": {},
   "outputs": [],
   "source": [
    "class CorrelationPermute(thinkstats2.HypothesisTest):\n",
    "    def TestStatistic(self, data):\n",
    "        xs, ys = data\n",
    "        test_stat = abs(thinkstats2.Corr(xs, ys))\n",
    "        return test_stat\n",
    "    \n",
    "    def RunModel(self):\n",
    "        xs, ys = self.data\n",
    "        xs = np.random.permutation(xs)\n",
    "        return xs, ys"
   ]
  },
  {
   "cell_type": "code",
   "execution_count": 5,
   "id": "afb6bcc9-7afc-4b9c-b3c1-9d1b531bce18",
   "metadata": {},
   "outputs": [],
   "source": [
    "class PregLengthTest(thinkstats2.HypothesisTest):\n",
    "    def MakeModel(self):\n",
    "        firsts, others = self.data\n",
    "        self.n = len(firsts)\n",
    "        self.pool = np.hstack((firsts, others))\n",
    "        \n",
    "        pmf = thinkstats2.Pmf(self.pool)\n",
    "        self.values = range(35, 44)\n",
    "        self.expected_probs = np.array(pmf.Probs(self.values))\n",
    "    \n",
    "    def RunModel(self):\n",
    "        np.random.shuffle(self.pool)\n",
    "        data = self.pool[:self.n], self.pool[self.n:]\n",
    "        return data    \n",
    "    \n",
    "    def TestStatistic(self, data):\n",
    "        firsts, others = data\n",
    "        stat = self.ChiSquared(firsts) + self.ChiSquared(others)\n",
    "        return stat\n",
    "    \n",
    "    def ChiSquared(self, lengths):\n",
    "        hist = thinkstats2.Hist(lengths)\n",
    "        observed = np.array(hist.Freqs(self.values))\n",
    "        expected = self.expected_probs * len(lengths)\n",
    "        stat = sum((observed - expected)**2 / expected)\n",
    "        return stat"
   ]
  },
  {
   "cell_type": "code",
   "execution_count": 6,
   "id": "bcce6a43-f0cd-49e7-8ff8-de1ce2fe7d99",
   "metadata": {},
   "outputs": [],
   "source": [
    "def diff_in_means(live):\n",
    "    firsts = live[live.birthord == 1]\n",
    "    others = live[live.birthord != 1]\n",
    "    \n",
    "    data = firsts.prglngth.values, others.prglngth.values\n",
    "    ht = DiffMeansPermute(data)\n",
    "    birthord_pvalue = ht.PValue()\n",
    "    \n",
    "    data = firsts.totalwgt_lb.values, others.totalwgt_lb.values\n",
    "    ht = DiffMeansPermute(data)\n",
    "    totalwgt_lb_pvalue = ht.PValue()\n",
    "    \n",
    "    return birthord_pvalue, totalwgt_lb_pvalue"
   ]
  },
  {
   "cell_type": "code",
   "execution_count": 7,
   "id": "d429bc61-9a9d-4021-97e7-6ff3d38637b8",
   "metadata": {},
   "outputs": [],
   "source": [
    "def test_corr(live):\n",
    "    live = live.dropna(subset=['agepreg', 'totalwgt_lb'])\n",
    "    data = live.agepreg.values, live.totalwgt_lb.values\n",
    "    ht = CorrelationPermute(data)\n",
    "    pvalue = ht.PValue()\n",
    "    \n",
    "    return pvalue"
   ]
  },
  {
   "cell_type": "code",
   "execution_count": 8,
   "id": "48a0e3a7-31b2-458a-b7bc-13794f9cb4d8",
   "metadata": {},
   "outputs": [],
   "source": [
    "def chi_squared(live):\n",
    "    data = firsts.prglngth.values, others.prglngth.values\n",
    "    ht = PregLengthTest(data)\n",
    "    pvalue = ht.PValue() \n",
    "    \n",
    "    return pvalue"
   ]
  },
  {
   "cell_type": "code",
   "execution_count": 9,
   "id": "39218d29-837d-4300-8312-04bdc8647b2b",
   "metadata": {},
   "outputs": [],
   "source": [
    "live, firsts, others = first.MakeFrames()"
   ]
  },
  {
   "cell_type": "code",
   "execution_count": 11,
   "id": "f08402bf-ef0e-4f58-a1bd-e0a697a80352",
   "metadata": {},
   "outputs": [
    {
     "name": "stdout",
     "output_type": "stream",
     "text": [
      "n = 9148\n",
      "Birth Order Mean Diff P-Value = 0.198\n",
      "Total Weight Mean Diff P-Value = 0.0\n",
      "Age vs Weight Corr P-Value = 0.0\n",
      "Chi_Squared Preg Length P-Value = 0.0\n",
      "\n",
      "n = 4574\n",
      "Birth Order Mean Diff P-Value = 0.351\n",
      "Total Weight Mean Diff P-Value = 0.0\n",
      "Age vs Weight Corr P-Value = 0.0\n",
      "Chi_Squared Preg Length P-Value = 0.0\n",
      "\n",
      "n = 2287\n",
      "Birth Order Mean Diff P-Value = 0.42\n",
      "Total Weight Mean Diff P-Value = 0.0\n",
      "Age vs Weight Corr P-Value = 0.0\n",
      "Chi_Squared Preg Length P-Value = 0.0\n",
      "\n",
      "n = 1143\n",
      "Birth Order Mean Diff P-Value = 0.022\n",
      "Total Weight Mean Diff P-Value = 0.0\n",
      "Age vs Weight Corr P-Value = 0.013\n",
      "Chi_Squared Preg Length P-Value = 0.0\n",
      "\n",
      "n = 571\n",
      "Birth Order Mean Diff P-Value = 0.43\n",
      "Total Weight Mean Diff P-Value = 0.0\n",
      "Age vs Weight Corr P-Value = 0.073\n",
      "Chi_Squared Preg Length P-Value = 0.0\n",
      "\n",
      "n = 285\n",
      "Birth Order Mean Diff P-Value = 0.761\n",
      "Total Weight Mean Diff P-Value = 0.0\n",
      "Age vs Weight Corr P-Value = 0.003\n",
      "Chi_Squared Preg Length P-Value = 0.0\n",
      "\n",
      "n = 142\n",
      "Birth Order Mean Diff P-Value = 0.747\n",
      "Total Weight Mean Diff P-Value = 0.0\n",
      "Age vs Weight Corr P-Value = 0.206\n",
      "Chi_Squared Preg Length P-Value = 0.0\n",
      "\n",
      "n = 71\n",
      "Birth Order Mean Diff P-Value = 0.372\n",
      "Total Weight Mean Diff P-Value = 0.266\n",
      "Age vs Weight Corr P-Value = 0.259\n",
      "Chi_Squared Preg Length P-Value = 0.0\n",
      "\n",
      "n = 35\n",
      "Birth Order Mean Diff P-Value = 0.506\n",
      "Total Weight Mean Diff P-Value = 0.077\n",
      "Age vs Weight Corr P-Value = 0.782\n",
      "Chi_Squared Preg Length P-Value = 0.0\n",
      "\n",
      "n = 17\n",
      "Birth Order Mean Diff P-Value = 0.349\n",
      "Total Weight Mean Diff P-Value = 0.333\n",
      "Age vs Weight Corr P-Value = 0.645\n",
      "Chi_Squared Preg Length P-Value = 0.0\n",
      "\n"
     ]
    }
   ],
   "source": [
    "i = 0\n",
    "n = len(live)\n",
    "while i < 10:\n",
    "    sample = thinkstats2.SampleRows(live, n)\n",
    "    birthord_pvalue, totalwgt_lb_pvalue = diff_in_means(sample)\n",
    "    corr_pvalue = test_corr(sample)\n",
    "    chi_pvalue = chi_squared(sample)\n",
    "    \n",
    "    print(\"n = {}\".format(n))\n",
    "    print(\"Birth Order Mean Diff P-Value = {}\".format(birthord_pvalue))\n",
    "    print(\"Total Weight Mean Diff P-Value = {}\".format(totalwgt_lb_pvalue))\n",
    "    print(\"Age vs Weight Corr P-Value = {}\".format(corr_pvalue))\n",
    "    print(\"Chi_Squared Preg Length P-Value = {}\".format(chi_pvalue))\n",
    "    print()\n",
    "    \n",
    "    n //= 2\n",
    "    i += 1"
   ]
  }
 ],
 "metadata": {
  "kernelspec": {
   "display_name": "Python 3 (ipykernel)",
   "language": "python",
   "name": "python3"
  },
  "language_info": {
   "codemirror_mode": {
    "name": "ipython",
    "version": 3
   },
   "file_extension": ".py",
   "mimetype": "text/x-python",
   "name": "python",
   "nbconvert_exporter": "python",
   "pygments_lexer": "ipython3",
   "version": "3.9.12"
  }
 },
 "nbformat": 4,
 "nbformat_minor": 5
}
