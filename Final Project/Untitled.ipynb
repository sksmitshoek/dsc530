{
 "cells": [
  {
   "cell_type": "code",
   "execution_count": null,
   "id": "6febd70e-ad90-4f26-ae1b-05b98bb84d5e",
   "metadata": {},
   "outputs": [],
   "source": [
    "thinkplot.scatter(climate_df.LandAverageTemperature.dropna())\n",
    "thinkplot.Config(xlabel='Year', ylabel='Avg Temp (C)')"
   ]
  },
  {
   "cell_type": "code",
   "execution_count": null,
   "id": "e67ade16-8f95-4785-9e89-9a46058dcb92",
   "metadata": {},
   "outputs": [],
   "source": [
    "thinkplot.scatter(climate_df.GMSL.dropna())\n",
    "thinkplot.Config(xlabel='Year', ylabel='Global Mean Sea Level (mm)')"
   ]
  }
 ],
 "metadata": {
  "kernelspec": {
   "display_name": "Python 3 (ipykernel)",
   "language": "python",
   "name": "python3"
  },
  "language_info": {
   "codemirror_mode": {
    "name": "ipython",
    "version": 3
   },
   "file_extension": ".py",
   "mimetype": "text/x-python",
   "name": "python",
   "nbconvert_exporter": "python",
   "pygments_lexer": "ipython3",
   "version": "3.9.12"
  }
 },
 "nbformat": 4,
 "nbformat_minor": 5
}
